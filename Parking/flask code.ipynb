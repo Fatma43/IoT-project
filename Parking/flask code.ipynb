{
 "cells": [
  {
   "cell_type": "code",
   "execution_count": null,
   "id": "b3899fd3",
   "metadata": {},
   "outputs": [
    {
     "name": "stdout",
     "output_type": "stream",
     "text": [
      " * Serving Flask app '__main__'\n",
      " * Debug mode: off\n"
     ]
    },
    {
     "name": "stderr",
     "output_type": "stream",
     "text": [
      "WARNING: This is a development server. Do not use it in a production deployment. Use a production WSGI server instead.\n",
      " * Running on all addresses (0.0.0.0)\n",
      " * Running on http://127.0.0.1:8082\n",
      " * Running on http://192.168.140.95:8082\n",
      "Press CTRL+C to quit\n"
     ]
    },
    {
     "name": "stdout",
     "output_type": "stream",
     "text": [
      "Received message on topic: parking/place1\n",
      "Received message on topic: parking/place2\n",
      "Received message on topic: parking/place3\n",
      "Received message on topic: parking/carcount\n",
      "Received message on topic: parking/place1\n",
      "Received message on topic: parking/place2\n",
      "Received message on topic: parking/place3\n",
      "Received message on topic: parking/carcount\n"
     ]
    },
    {
     "name": "stderr",
     "output_type": "stream",
     "text": [
      "127.0.0.1 - - [19/May/2024 12:26:42] \"GET / HTTP/1.1\" 200 -\n",
      "127.0.0.1 - - [19/May/2024 12:26:42] \"GET /static/images/car.png HTTP/1.1\" 200 -\n",
      "127.0.0.1 - - [19/May/2024 12:26:45] \"GET / HTTP/1.1\" 200 -\n",
      "127.0.0.1 - - [19/May/2024 12:26:45] \"GET /static/images/car.png HTTP/1.1\" 304 -\n",
      "127.0.0.1 - - [19/May/2024 12:26:48] \"GET / HTTP/1.1\" 200 -\n",
      "127.0.0.1 - - [19/May/2024 12:26:48] \"GET /static/images/car.png HTTP/1.1\" 304 -\n",
      "127.0.0.1 - - [19/May/2024 12:26:51] \"GET / HTTP/1.1\" 200 -\n",
      "127.0.0.1 - - [19/May/2024 12:26:51] \"GET /static/images/car.png HTTP/1.1\" 304 -\n"
     ]
    },
    {
     "name": "stdout",
     "output_type": "stream",
     "text": [
      "Received message on topic: parking/place1\n",
      "Received message on topic: parking/place2\n",
      "Received message on topic: parking/place3\n",
      "Received message on topic: parking/carcount\n"
     ]
    },
    {
     "name": "stderr",
     "output_type": "stream",
     "text": [
      "127.0.0.1 - - [19/May/2024 12:26:54] \"GET / HTTP/1.1\" 200 -\n",
      "127.0.0.1 - - [19/May/2024 12:26:54] \"GET /static/images/car.png HTTP/1.1\" 304 -\n",
      "127.0.0.1 - - [19/May/2024 12:26:57] \"GET / HTTP/1.1\" 200 -\n",
      "127.0.0.1 - - [19/May/2024 12:26:57] \"GET /static/images/car.png HTTP/1.1\" 304 -\n",
      "127.0.0.1 - - [19/May/2024 12:27:00] \"GET / HTTP/1.1\" 200 -\n",
      "127.0.0.1 - - [19/May/2024 12:27:00] \"GET /static/images/car.png HTTP/1.1\" 304 -\n"
     ]
    },
    {
     "name": "stdout",
     "output_type": "stream",
     "text": [
      "Received message on topic: parking/place1\n",
      "Received message on topic: parking/place2\n",
      "Received message on topic: parking/place3\n",
      "Received message on topic: parking/carcount\n"
     ]
    },
    {
     "name": "stderr",
     "output_type": "stream",
     "text": [
      "127.0.0.1 - - [19/May/2024 12:27:03] \"GET / HTTP/1.1\" 200 -\n",
      "127.0.0.1 - - [19/May/2024 12:27:03] \"GET /static/images/car.png HTTP/1.1\" 304 -\n",
      "127.0.0.1 - - [19/May/2024 12:27:06] \"GET / HTTP/1.1\" 200 -\n",
      "127.0.0.1 - - [19/May/2024 12:27:06] \"GET /static/images/car.png HTTP/1.1\" 304 -\n",
      "127.0.0.1 - - [19/May/2024 12:27:09] \"GET / HTTP/1.1\" 200 -\n",
      "127.0.0.1 - - [19/May/2024 12:27:09] \"GET /static/images/car.png HTTP/1.1\" 304 -\n",
      "127.0.0.1 - - [19/May/2024 12:27:12] \"GET / HTTP/1.1\" 200 -\n",
      "127.0.0.1 - - [19/May/2024 12:27:12] \"GET /static/images/car.png HTTP/1.1\" 304 -\n"
     ]
    },
    {
     "name": "stdout",
     "output_type": "stream",
     "text": [
      "Received message on topic: parking/place1\n",
      "Received message on topic: parking/place2\n",
      "Received message on topic: parking/place3\n",
      "Received message on topic: parking/carcount\n"
     ]
    },
    {
     "name": "stderr",
     "output_type": "stream",
     "text": [
      "127.0.0.1 - - [19/May/2024 12:27:15] \"GET / HTTP/1.1\" 200 -\n",
      "127.0.0.1 - - [19/May/2024 12:27:15] \"GET /static/images/car.png HTTP/1.1\" 304 -\n",
      "127.0.0.1 - - [19/May/2024 12:27:18] \"GET / HTTP/1.1\" 200 -\n",
      "127.0.0.1 - - [19/May/2024 12:27:18] \"GET /static/images/car.png HTTP/1.1\" 304 -\n",
      "127.0.0.1 - - [19/May/2024 12:27:21] \"GET / HTTP/1.1\" 200 -\n",
      "127.0.0.1 - - [19/May/2024 12:27:22] \"GET /static/images/car.png HTTP/1.1\" 304 -\n"
     ]
    },
    {
     "name": "stdout",
     "output_type": "stream",
     "text": [
      "Received message on topic: parking/place1\n",
      "Received message on topic: parking/place2\n",
      "Received message on topic: parking/place3\n",
      "Received message on topic: parking/carcount\n"
     ]
    },
    {
     "name": "stderr",
     "output_type": "stream",
     "text": [
      "127.0.0.1 - - [19/May/2024 12:27:25] \"GET / HTTP/1.1\" 200 -\n",
      "127.0.0.1 - - [19/May/2024 12:27:25] \"GET /static/images/car.png HTTP/1.1\" 304 -\n",
      "127.0.0.1 - - [19/May/2024 12:27:28] \"GET / HTTP/1.1\" 200 -\n",
      "127.0.0.1 - - [19/May/2024 12:27:28] \"GET /static/images/car.png HTTP/1.1\" 304 -\n",
      "127.0.0.1 - - [19/May/2024 12:27:31] \"GET / HTTP/1.1\" 200 -\n",
      "127.0.0.1 - - [19/May/2024 12:27:31] \"GET /static/images/car.png HTTP/1.1\" 304 -\n",
      "127.0.0.1 - - [19/May/2024 12:27:34] \"GET / HTTP/1.1\" 200 -\n",
      "127.0.0.1 - - [19/May/2024 12:27:34] \"GET /static/images/car.png HTTP/1.1\" 304 -\n"
     ]
    },
    {
     "name": "stdout",
     "output_type": "stream",
     "text": [
      "Received message on topic: parking/place1\n",
      "Received message on topic: parking/place2\n",
      "Received message on topic: parking/place3\n",
      "Received message on topic: parking/carcount\n"
     ]
    },
    {
     "name": "stderr",
     "output_type": "stream",
     "text": [
      "127.0.0.1 - - [19/May/2024 12:27:37] \"GET / HTTP/1.1\" 200 -\n",
      "127.0.0.1 - - [19/May/2024 12:27:37] \"GET /static/images/car.png HTTP/1.1\" 304 -\n",
      "127.0.0.1 - - [19/May/2024 12:27:40] \"GET / HTTP/1.1\" 200 -\n",
      "127.0.0.1 - - [19/May/2024 12:27:40] \"GET /static/images/car.png HTTP/1.1\" 304 -\n"
     ]
    },
    {
     "name": "stdout",
     "output_type": "stream",
     "text": [
      "Received message on topic: parking/place1\n",
      "Received message on topic: parking/place2\n",
      "Received message on topic: parking/place3\n",
      "Received message on topic: parking/carcount\n"
     ]
    },
    {
     "name": "stderr",
     "output_type": "stream",
     "text": [
      "127.0.0.1 - - [19/May/2024 12:27:43] \"GET / HTTP/1.1\" 200 -\n",
      "127.0.0.1 - - [19/May/2024 12:27:43] \"GET /static/images/car.png HTTP/1.1\" 304 -\n",
      "127.0.0.1 - - [19/May/2024 12:27:46] \"GET / HTTP/1.1\" 200 -\n",
      "127.0.0.1 - - [19/May/2024 12:27:46] \"GET /static/images/car.png HTTP/1.1\" 304 -\n",
      "127.0.0.1 - - [19/May/2024 12:27:50] \"GET / HTTP/1.1\" 200 -\n",
      "127.0.0.1 - - [19/May/2024 12:27:50] \"GET /static/images/car.png HTTP/1.1\" 304 -\n"
     ]
    },
    {
     "name": "stdout",
     "output_type": "stream",
     "text": [
      "Received message on topic: parking/place1\n",
      "Received message on topic: parking/place2\n",
      "Received message on topic: parking/place3\n",
      "Received message on topic: parking/carcount\n"
     ]
    },
    {
     "name": "stderr",
     "output_type": "stream",
     "text": [
      "127.0.0.1 - - [19/May/2024 12:27:54] \"GET / HTTP/1.1\" 200 -\n",
      "127.0.0.1 - - [19/May/2024 12:27:54] \"GET /static/images/car.png HTTP/1.1\" 304 -\n",
      "127.0.0.1 - - [19/May/2024 12:27:58] \"GET / HTTP/1.1\" 200 -\n",
      "127.0.0.1 - - [19/May/2024 12:27:58] \"GET /static/images/car.png HTTP/1.1\" 304 -\n",
      "127.0.0.1 - - [19/May/2024 12:28:02] \"GET / HTTP/1.1\" 200 -\n",
      "127.0.0.1 - - [19/May/2024 12:28:02] \"GET /static/images/car.png HTTP/1.1\" 304 -\n"
     ]
    },
    {
     "name": "stdout",
     "output_type": "stream",
     "text": [
      "Received message on topic: parking/place1\n",
      "Received message on topic: parking/place2\n",
      "Received message on topic: parking/place3\n",
      "Received message on topic: parking/carcount\n"
     ]
    },
    {
     "name": "stderr",
     "output_type": "stream",
     "text": [
      "127.0.0.1 - - [19/May/2024 12:28:06] \"GET / HTTP/1.1\" 200 -\n",
      "127.0.0.1 - - [19/May/2024 12:28:06] \"GET /static/images/car.png HTTP/1.1\" 304 -\n",
      "127.0.0.1 - - [19/May/2024 12:28:10] \"GET / HTTP/1.1\" 200 -\n",
      "127.0.0.1 - - [19/May/2024 12:28:10] \"GET /static/images/car.png HTTP/1.1\" 304 -\n"
     ]
    },
    {
     "name": "stdout",
     "output_type": "stream",
     "text": [
      "Received message on topic: parking/place1\n",
      "Received message on topic: parking/place2\n",
      "Received message on topic: parking/place3\n",
      "Received message on topic: parking/carcount\n"
     ]
    },
    {
     "name": "stderr",
     "output_type": "stream",
     "text": [
      "127.0.0.1 - - [19/May/2024 12:28:14] \"GET / HTTP/1.1\" 200 -\n",
      "127.0.0.1 - - [19/May/2024 12:28:14] \"GET /static/images/car.png HTTP/1.1\" 304 -\n",
      "127.0.0.1 - - [19/May/2024 12:28:18] \"GET / HTTP/1.1\" 200 -\n",
      "127.0.0.1 - - [19/May/2024 12:28:18] \"GET /static/images/car.png HTTP/1.1\" 304 -\n"
     ]
    },
    {
     "name": "stdout",
     "output_type": "stream",
     "text": [
      "Received message on topic: parking/place1\n",
      "Received message on topic: parking/place2\n",
      "Received message on topic: parking/place3\n",
      "Received message on topic: parking/carcount\n"
     ]
    },
    {
     "name": "stderr",
     "output_type": "stream",
     "text": [
      "127.0.0.1 - - [19/May/2024 12:28:22] \"GET / HTTP/1.1\" 200 -\n",
      "127.0.0.1 - - [19/May/2024 12:28:22] \"GET /static/images/car.png HTTP/1.1\" 304 -\n",
      "127.0.0.1 - - [19/May/2024 12:28:26] \"GET / HTTP/1.1\" 200 -\n",
      "127.0.0.1 - - [19/May/2024 12:28:26] \"GET /static/images/car.png HTTP/1.1\" 304 -\n"
     ]
    },
    {
     "name": "stdout",
     "output_type": "stream",
     "text": [
      "Received message on topic: parking/place1\n",
      "Received message on topic: parking/place2\n",
      "Received message on topic: parking/place3\n",
      "Received message on topic: parking/carcount\n"
     ]
    },
    {
     "name": "stderr",
     "output_type": "stream",
     "text": [
      "127.0.0.1 - - [19/May/2024 12:28:30] \"GET / HTTP/1.1\" 200 -\n",
      "127.0.0.1 - - [19/May/2024 12:28:30] \"GET /static/images/car.png HTTP/1.1\" 304 -\n",
      "127.0.0.1 - - [19/May/2024 12:28:34] \"GET / HTTP/1.1\" 200 -\n",
      "127.0.0.1 - - [19/May/2024 12:28:34] \"GET /static/images/car.png HTTP/1.1\" 304 -\n"
     ]
    },
    {
     "name": "stdout",
     "output_type": "stream",
     "text": [
      "Received message on topic: parking/place1\n",
      "Received message on topic: parking/place2\n",
      "Received message on topic: parking/place3\n",
      "Received message on topic: parking/carcount\n"
     ]
    },
    {
     "name": "stderr",
     "output_type": "stream",
     "text": [
      "127.0.0.1 - - [19/May/2024 12:28:38] \"GET / HTTP/1.1\" 200 -\n",
      "127.0.0.1 - - [19/May/2024 12:28:38] \"GET /static/images/car.png HTTP/1.1\" 304 -\n",
      "127.0.0.1 - - [19/May/2024 12:28:42] \"GET / HTTP/1.1\" 200 -\n",
      "127.0.0.1 - - [19/May/2024 12:28:42] \"GET /static/images/car.png HTTP/1.1\" 304 -\n"
     ]
    },
    {
     "name": "stdout",
     "output_type": "stream",
     "text": [
      "Received message on topic: parking/place1\n",
      "Received message on topic: parking/place2\n",
      "Received message on topic: parking/place3\n",
      "Received message on topic: parking/carcount\n"
     ]
    },
    {
     "name": "stderr",
     "output_type": "stream",
     "text": [
      "127.0.0.1 - - [19/May/2024 12:28:46] \"GET / HTTP/1.1\" 200 -\n",
      "127.0.0.1 - - [19/May/2024 12:28:46] \"GET /static/images/car.png HTTP/1.1\" 304 -\n",
      "127.0.0.1 - - [19/May/2024 12:28:50] \"GET / HTTP/1.1\" 200 -\n",
      "127.0.0.1 - - [19/May/2024 12:28:50] \"GET /static/images/car.png HTTP/1.1\" 304 -\n"
     ]
    },
    {
     "name": "stdout",
     "output_type": "stream",
     "text": [
      "Received message on topic: parking/place1\n",
      "Received message on topic: parking/place2\n",
      "Received message on topic: parking/place3\n",
      "Received message on topic: parking/carcount\n"
     ]
    },
    {
     "name": "stderr",
     "output_type": "stream",
     "text": [
      "127.0.0.1 - - [19/May/2024 12:28:54] \"GET / HTTP/1.1\" 200 -\n",
      "127.0.0.1 - - [19/May/2024 12:28:54] \"GET /static/images/car.png HTTP/1.1\" 304 -\n",
      "127.0.0.1 - - [19/May/2024 12:28:58] \"GET / HTTP/1.1\" 200 -\n",
      "127.0.0.1 - - [19/May/2024 12:28:58] \"GET /static/images/car.png HTTP/1.1\" 304 -\n",
      "127.0.0.1 - - [19/May/2024 12:29:02] \"GET / HTTP/1.1\" 200 -\n",
      "127.0.0.1 - - [19/May/2024 12:29:02] \"GET /static/images/car.png HTTP/1.1\" 304 -\n"
     ]
    },
    {
     "name": "stdout",
     "output_type": "stream",
     "text": [
      "Received message on topic: parking/place1\n",
      "Received message on topic: parking/place2\n",
      "Received message on topic: parking/place3\n",
      "Received message on topic: parking/carcount\n"
     ]
    },
    {
     "name": "stderr",
     "output_type": "stream",
     "text": [
      "127.0.0.1 - - [19/May/2024 12:29:06] \"GET / HTTP/1.1\" 200 -\n",
      "127.0.0.1 - - [19/May/2024 12:29:06] \"GET /static/images/car.png HTTP/1.1\" 304 -\n",
      "127.0.0.1 - - [19/May/2024 12:29:10] \"GET / HTTP/1.1\" 200 -\n",
      "127.0.0.1 - - [19/May/2024 12:29:10] \"GET /static/images/car.png HTTP/1.1\" 304 -\n",
      "127.0.0.1 - - [19/May/2024 12:29:14] \"GET / HTTP/1.1\" 200 -\n",
      "127.0.0.1 - - [19/May/2024 12:29:14] \"GET /static/images/car.png HTTP/1.1\" 304 -\n"
     ]
    },
    {
     "name": "stdout",
     "output_type": "stream",
     "text": [
      "Received message on topic: parking/place1\n",
      "Received message on topic: parking/place2\n",
      "Received message on topic: parking/place3\n",
      "Received message on topic: parking/carcount\n"
     ]
    },
    {
     "name": "stderr",
     "output_type": "stream",
     "text": [
      "127.0.0.1 - - [19/May/2024 12:29:18] \"GET / HTTP/1.1\" 200 -\n",
      "127.0.0.1 - - [19/May/2024 12:29:18] \"GET /static/images/car.png HTTP/1.1\" 304 -\n"
     ]
    },
    {
     "name": "stdout",
     "output_type": "stream",
     "text": [
      "Received message on topic: parking/place1\n",
      "Received message on topic: parking/place2\n",
      "Received message on topic: parking/place3\n",
      "Received message on topic: parking/carcount\n"
     ]
    },
    {
     "name": "stderr",
     "output_type": "stream",
     "text": [
      "127.0.0.1 - - [19/May/2024 12:29:22] \"GET / HTTP/1.1\" 200 -\n",
      "127.0.0.1 - - [19/May/2024 12:29:22] \"GET /static/images/car.png HTTP/1.1\" 304 -\n",
      "127.0.0.1 - - [19/May/2024 12:29:26] \"GET / HTTP/1.1\" 200 -\n",
      "127.0.0.1 - - [19/May/2024 12:29:26] \"GET /static/images/car.png HTTP/1.1\" 304 -\n"
     ]
    },
    {
     "name": "stdout",
     "output_type": "stream",
     "text": [
      "Received message on topic: parking/place1\n",
      "Received message on topic: parking/place2\n",
      "Received message on topic: parking/place3\n",
      "Received message on topic: parking/carcount\n"
     ]
    },
    {
     "name": "stderr",
     "output_type": "stream",
     "text": [
      "127.0.0.1 - - [19/May/2024 12:29:30] \"GET / HTTP/1.1\" 200 -\n",
      "127.0.0.1 - - [19/May/2024 12:29:30] \"GET /static/images/car.png HTTP/1.1\" 304 -\n",
      "127.0.0.1 - - [19/May/2024 12:29:34] \"GET / HTTP/1.1\" 200 -\n",
      "127.0.0.1 - - [19/May/2024 12:29:34] \"GET /static/images/car.png HTTP/1.1\" 304 -\n"
     ]
    },
    {
     "name": "stdout",
     "output_type": "stream",
     "text": [
      "Received message on topic: parking/place1\n",
      "Received message on topic: parking/place2\n",
      "Received message on topic: parking/place3\n",
      "Received message on topic: parking/carcount\n"
     ]
    },
    {
     "name": "stderr",
     "output_type": "stream",
     "text": [
      "127.0.0.1 - - [19/May/2024 12:29:38] \"GET / HTTP/1.1\" 200 -\n",
      "127.0.0.1 - - [19/May/2024 12:29:38] \"GET /static/images/car.png HTTP/1.1\" 304 -\n",
      "127.0.0.1 - - [19/May/2024 12:29:42] \"GET / HTTP/1.1\" 200 -\n",
      "127.0.0.1 - - [19/May/2024 12:29:42] \"GET /static/images/car.png HTTP/1.1\" 304 -\n"
     ]
    },
    {
     "name": "stdout",
     "output_type": "stream",
     "text": [
      "Received message on topic: parking/place1\n",
      "Received message on topic: parking/place2\n",
      "Received message on topic: parking/place3\n",
      "Received message on topic: parking/carcount\n"
     ]
    },
    {
     "name": "stderr",
     "output_type": "stream",
     "text": [
      "127.0.0.1 - - [19/May/2024 12:29:46] \"GET / HTTP/1.1\" 200 -\n"
     ]
    },
    {
     "name": "stdout",
     "output_type": "stream",
     "text": [
      "Received message on topic: parking/place1\n",
      "Received message on topic: parking/place2\n",
      "Received message on topic: parking/place3\n",
      "Received message on topic: parking/carcount\n"
     ]
    },
    {
     "name": "stderr",
     "output_type": "stream",
     "text": [
      "127.0.0.1 - - [19/May/2024 12:29:50] \"GET / HTTP/1.1\" 200 -\n",
      "127.0.0.1 - - [19/May/2024 12:29:54] \"GET / HTTP/1.1\" 200 -\n"
     ]
    },
    {
     "name": "stdout",
     "output_type": "stream",
     "text": [
      "Received message on topic: parking/place1\n",
      "Received message on topic: parking/place2\n",
      "Received message on topic: parking/place3\n",
      "Received message on topic: parking/carcount\n"
     ]
    },
    {
     "name": "stderr",
     "output_type": "stream",
     "text": [
      "127.0.0.1 - - [19/May/2024 12:29:58] \"GET / HTTP/1.1\" 200 -\n",
      "127.0.0.1 - - [19/May/2024 12:30:02] \"GET / HTTP/1.1\" 200 -\n"
     ]
    },
    {
     "name": "stdout",
     "output_type": "stream",
     "text": [
      "Received message on topic: parking/place1\n",
      "Received message on topic: parking/place2\n",
      "Received message on topic: parking/place3\n",
      "Received message on topic: parking/carcount\n"
     ]
    },
    {
     "name": "stderr",
     "output_type": "stream",
     "text": [
      "127.0.0.1 - - [19/May/2024 12:30:06] \"GET / HTTP/1.1\" 200 -\n"
     ]
    },
    {
     "name": "stdout",
     "output_type": "stream",
     "text": [
      "Received message on topic: parking/place1\n",
      "Received message on topic: parking/place2\n",
      "Received message on topic: parking/place3\n",
      "Received message on topic: parking/carcount\n"
     ]
    },
    {
     "name": "stderr",
     "output_type": "stream",
     "text": [
      "127.0.0.1 - - [19/May/2024 12:30:10] \"GET / HTTP/1.1\" 200 -\n",
      "127.0.0.1 - - [19/May/2024 12:30:14] \"GET / HTTP/1.1\" 200 -\n"
     ]
    },
    {
     "name": "stdout",
     "output_type": "stream",
     "text": [
      "Received message on topic: parking/place1\n",
      "Received message on topic: parking/place2\n",
      "Received message on topic: parking/place3\n",
      "Received message on topic: parking/carcount\n"
     ]
    },
    {
     "name": "stderr",
     "output_type": "stream",
     "text": [
      "127.0.0.1 - - [19/May/2024 12:30:18] \"GET / HTTP/1.1\" 200 -\n",
      "127.0.0.1 - - [19/May/2024 12:30:18] \"GET /static/images/car.png HTTP/1.1\" 304 -\n",
      "127.0.0.1 - - [19/May/2024 12:30:22] \"GET / HTTP/1.1\" 200 -\n",
      "127.0.0.1 - - [19/May/2024 12:30:22] \"GET /static/images/car.png HTTP/1.1\" 304 -\n",
      "127.0.0.1 - - [19/May/2024 12:30:26] \"GET / HTTP/1.1\" 200 -\n",
      "127.0.0.1 - - [19/May/2024 12:30:26] \"GET /static/images/car.png HTTP/1.1\" 304 -\n",
      "127.0.0.1 - - [19/May/2024 12:30:30] \"GET / HTTP/1.1\" 200 -\n",
      "127.0.0.1 - - [19/May/2024 12:30:30] \"GET /static/images/car.png HTTP/1.1\" 304 -\n"
     ]
    },
    {
     "name": "stdout",
     "output_type": "stream",
     "text": [
      "Received message on topic: parking/place1\n",
      "Received message on topic: parking/place2\n",
      "Received message on topic: parking/place3\n",
      "Received message on topic: parking/carcount\n"
     ]
    },
    {
     "name": "stderr",
     "output_type": "stream",
     "text": [
      "127.0.0.1 - - [19/May/2024 12:30:34] \"GET / HTTP/1.1\" 200 -\n",
      "127.0.0.1 - - [19/May/2024 12:30:34] \"GET /static/images/car.png HTTP/1.1\" 304 -\n",
      "127.0.0.1 - - [19/May/2024 12:30:38] \"GET / HTTP/1.1\" 200 -\n",
      "127.0.0.1 - - [19/May/2024 12:30:38] \"GET /static/images/car.png HTTP/1.1\" 304 -\n",
      "127.0.0.1 - - [19/May/2024 12:30:42] \"GET / HTTP/1.1\" 200 -\n",
      "127.0.0.1 - - [19/May/2024 12:30:42] \"GET /static/images/car.png HTTP/1.1\" 304 -\n"
     ]
    },
    {
     "name": "stdout",
     "output_type": "stream",
     "text": [
      "Received message on topic: parking/place1\n",
      "Received message on topic: parking/place2\n",
      "Received message on topic: parking/place3\n",
      "Received message on topic: parking/carcount\n"
     ]
    },
    {
     "name": "stderr",
     "output_type": "stream",
     "text": [
      "127.0.0.1 - - [19/May/2024 12:30:46] \"GET / HTTP/1.1\" 200 -\n",
      "127.0.0.1 - - [19/May/2024 12:30:46] \"GET /static/images/car.png HTTP/1.1\" 304 -\n",
      "127.0.0.1 - - [19/May/2024 12:30:50] \"GET / HTTP/1.1\" 200 -\n",
      "127.0.0.1 - - [19/May/2024 12:30:50] \"GET /static/images/car.png HTTP/1.1\" 304 -\n",
      "127.0.0.1 - - [19/May/2024 12:30:54] \"GET / HTTP/1.1\" 200 -\n",
      "127.0.0.1 - - [19/May/2024 12:30:54] \"GET /static/images/car.png HTTP/1.1\" 304 -\n"
     ]
    },
    {
     "name": "stdout",
     "output_type": "stream",
     "text": [
      "Received message on topic: parking/place1\n",
      "Received message on topic: parking/place2\n",
      "Received message on topic: parking/place3\n",
      "Received message on topic: parking/carcount\n"
     ]
    },
    {
     "name": "stderr",
     "output_type": "stream",
     "text": [
      "127.0.0.1 - - [19/May/2024 12:30:58] \"GET / HTTP/1.1\" 200 -\n",
      "127.0.0.1 - - [19/May/2024 12:30:58] \"GET /static/images/car.png HTTP/1.1\" 304 -\n",
      "127.0.0.1 - - [19/May/2024 12:31:02] \"GET / HTTP/1.1\" 200 -\n",
      "127.0.0.1 - - [19/May/2024 12:31:02] \"GET /static/images/car.png HTTP/1.1\" 304 -\n",
      "127.0.0.1 - - [19/May/2024 12:31:06] \"GET / HTTP/1.1\" 200 -\n",
      "127.0.0.1 - - [19/May/2024 12:31:06] \"GET /static/images/car.png HTTP/1.1\" 304 -\n"
     ]
    },
    {
     "name": "stdout",
     "output_type": "stream",
     "text": [
      "Received message on topic: parking/place1\n",
      "Received message on topic: parking/place2\n",
      "Received message on topic: parking/place3\n",
      "Received message on topic: parking/carcount\n"
     ]
    },
    {
     "name": "stderr",
     "output_type": "stream",
     "text": [
      "127.0.0.1 - - [19/May/2024 12:31:10] \"GET / HTTP/1.1\" 200 -\n",
      "127.0.0.1 - - [19/May/2024 12:31:10] \"GET /static/images/car.png HTTP/1.1\" 304 -\n",
      "127.0.0.1 - - [19/May/2024 12:31:14] \"GET / HTTP/1.1\" 200 -\n",
      "127.0.0.1 - - [19/May/2024 12:31:14] \"GET /static/images/car.png HTTP/1.1\" 304 -\n",
      "127.0.0.1 - - [19/May/2024 12:31:18] \"GET / HTTP/1.1\" 200 -\n",
      "127.0.0.1 - - [19/May/2024 12:31:18] \"GET /static/images/car.png HTTP/1.1\" 304 -\n"
     ]
    },
    {
     "name": "stdout",
     "output_type": "stream",
     "text": [
      "Received message on topic: parking/place1\n",
      "Received message on topic: parking/place2\n",
      "Received message on topic: parking/place3\n",
      "Received message on topic: parking/carcount\n"
     ]
    },
    {
     "name": "stderr",
     "output_type": "stream",
     "text": [
      "127.0.0.1 - - [19/May/2024 12:31:22] \"GET / HTTP/1.1\" 200 -\n",
      "127.0.0.1 - - [19/May/2024 12:31:22] \"GET /static/images/car.png HTTP/1.1\" 304 -\n",
      "127.0.0.1 - - [19/May/2024 12:31:26] \"GET / HTTP/1.1\" 200 -\n",
      "127.0.0.1 - - [19/May/2024 12:31:26] \"GET /static/images/car.png HTTP/1.1\" 304 -\n",
      "127.0.0.1 - - [19/May/2024 12:31:30] \"GET / HTTP/1.1\" 200 -\n",
      "127.0.0.1 - - [19/May/2024 12:31:30] \"GET /static/images/car.png HTTP/1.1\" 304 -\n"
     ]
    },
    {
     "name": "stdout",
     "output_type": "stream",
     "text": [
      "Received message on topic: parking/place1\n",
      "Received message on topic: parking/place2\n",
      "Received message on topic: parking/place3\n",
      "Received message on topic: parking/carcount\n"
     ]
    },
    {
     "name": "stderr",
     "output_type": "stream",
     "text": [
      "127.0.0.1 - - [19/May/2024 12:31:34] \"GET / HTTP/1.1\" 200 -\n",
      "127.0.0.1 - - [19/May/2024 12:31:34] \"GET /static/images/car.png HTTP/1.1\" 304 -\n",
      "127.0.0.1 - - [19/May/2024 12:31:38] \"GET / HTTP/1.1\" 200 -\n",
      "127.0.0.1 - - [19/May/2024 12:31:38] \"GET /static/images/car.png HTTP/1.1\" 304 -\n",
      "127.0.0.1 - - [19/May/2024 12:31:42] \"GET / HTTP/1.1\" 200 -\n",
      "127.0.0.1 - - [19/May/2024 12:31:42] \"GET /static/images/car.png HTTP/1.1\" 304 -\n"
     ]
    },
    {
     "name": "stdout",
     "output_type": "stream",
     "text": [
      "Received message on topic: parking/place1\n",
      "Received message on topic: parking/place2\n",
      "Received message on topic: parking/place3\n",
      "Received message on topic: parking/carcount\n"
     ]
    },
    {
     "name": "stderr",
     "output_type": "stream",
     "text": [
      "127.0.0.1 - - [19/May/2024 12:31:46] \"GET / HTTP/1.1\" 200 -\n",
      "127.0.0.1 - - [19/May/2024 12:31:46] \"GET /static/images/car.png HTTP/1.1\" 304 -\n",
      "127.0.0.1 - - [19/May/2024 12:31:50] \"GET / HTTP/1.1\" 200 -\n",
      "127.0.0.1 - - [19/May/2024 12:31:50] \"GET /static/images/car.png HTTP/1.1\" 304 -\n",
      "127.0.0.1 - - [19/May/2024 12:31:54] \"GET / HTTP/1.1\" 200 -\n",
      "127.0.0.1 - - [19/May/2024 12:31:54] \"GET /static/images/car.png HTTP/1.1\" 304 -\n"
     ]
    },
    {
     "name": "stdout",
     "output_type": "stream",
     "text": [
      "Received message on topic: parking/place1\n",
      "Received message on topic: parking/place2\n",
      "Received message on topic: parking/place3\n",
      "Received message on topic: parking/carcount\n"
     ]
    },
    {
     "name": "stderr",
     "output_type": "stream",
     "text": [
      "127.0.0.1 - - [19/May/2024 12:31:58] \"GET / HTTP/1.1\" 200 -\n",
      "127.0.0.1 - - [19/May/2024 12:31:58] \"GET /static/images/car.png HTTP/1.1\" 304 -\n",
      "127.0.0.1 - - [19/May/2024 12:32:02] \"GET / HTTP/1.1\" 200 -\n",
      "127.0.0.1 - - [19/May/2024 12:32:02] \"GET /static/images/car.png HTTP/1.1\" 304 -\n",
      "127.0.0.1 - - [19/May/2024 12:32:06] \"GET / HTTP/1.1\" 200 -\n",
      "127.0.0.1 - - [19/May/2024 12:32:06] \"GET /static/images/car.png HTTP/1.1\" 304 -\n"
     ]
    },
    {
     "name": "stdout",
     "output_type": "stream",
     "text": [
      "Received message on topic: parking/place1\n",
      "Received message on topic: parking/place2\n",
      "Received message on topic: parking/place3\n",
      "Received message on topic: parking/carcount\n"
     ]
    },
    {
     "name": "stderr",
     "output_type": "stream",
     "text": [
      "127.0.0.1 - - [19/May/2024 12:32:10] \"GET / HTTP/1.1\" 200 -\n",
      "127.0.0.1 - - [19/May/2024 12:32:10] \"GET /static/images/car.png HTTP/1.1\" 304 -\n",
      "127.0.0.1 - - [19/May/2024 12:32:14] \"GET / HTTP/1.1\" 200 -\n",
      "127.0.0.1 - - [19/May/2024 12:32:14] \"GET /static/images/car.png HTTP/1.1\" 304 -\n"
     ]
    },
    {
     "name": "stdout",
     "output_type": "stream",
     "text": [
      "Received message on topic: parking/place1\n",
      "Received message on topic: parking/place2\n",
      "Received message on topic: parking/place3\n",
      "Received message on topic: parking/carcount\n"
     ]
    },
    {
     "name": "stderr",
     "output_type": "stream",
     "text": [
      "127.0.0.1 - - [19/May/2024 12:32:18] \"GET / HTTP/1.1\" 200 -\n",
      "127.0.0.1 - - [19/May/2024 12:32:18] \"GET /static/images/car.png HTTP/1.1\" 304 -\n",
      "127.0.0.1 - - [19/May/2024 12:32:22] \"GET / HTTP/1.1\" 200 -\n",
      "127.0.0.1 - - [19/May/2024 12:32:22] \"GET /static/images/car.png HTTP/1.1\" 304 -\n",
      "127.0.0.1 - - [19/May/2024 12:32:26] \"GET / HTTP/1.1\" 200 -\n",
      "127.0.0.1 - - [19/May/2024 12:32:26] \"GET /static/images/car.png HTTP/1.1\" 304 -\n"
     ]
    },
    {
     "name": "stdout",
     "output_type": "stream",
     "text": [
      "Received message on topic: parking/place1\n",
      "Received message on topic: parking/place2\n",
      "Received message on topic: parking/place3\n",
      "Received message on topic: parking/carcount\n"
     ]
    },
    {
     "name": "stderr",
     "output_type": "stream",
     "text": [
      "127.0.0.1 - - [19/May/2024 12:32:30] \"GET / HTTP/1.1\" 200 -\n",
      "127.0.0.1 - - [19/May/2024 12:32:30] \"GET /static/images/car.png HTTP/1.1\" 304 -\n",
      "127.0.0.1 - - [19/May/2024 12:32:34] \"GET / HTTP/1.1\" 200 -\n",
      "127.0.0.1 - - [19/May/2024 12:32:34] \"GET /static/images/car.png HTTP/1.1\" 304 -\n",
      "127.0.0.1 - - [19/May/2024 12:32:38] \"GET / HTTP/1.1\" 200 -\n",
      "127.0.0.1 - - [19/May/2024 12:32:38] \"GET /static/images/car.png HTTP/1.1\" 304 -\n",
      "127.0.0.1 - - [19/May/2024 12:32:42] \"GET / HTTP/1.1\" 200 -\n",
      "127.0.0.1 - - [19/May/2024 12:32:42] \"GET /static/images/car.png HTTP/1.1\" 304 -\n",
      "127.0.0.1 - - [19/May/2024 12:32:46] \"GET / HTTP/1.1\" 200 -\n",
      "127.0.0.1 - - [19/May/2024 12:32:46] \"GET /static/images/car.png HTTP/1.1\" 304 -\n",
      "127.0.0.1 - - [19/May/2024 12:32:50] \"GET / HTTP/1.1\" 200 -\n",
      "127.0.0.1 - - [19/May/2024 12:32:50] \"GET /static/images/car.png HTTP/1.1\" 304 -\n",
      "127.0.0.1 - - [19/May/2024 12:32:54] \"GET / HTTP/1.1\" 200 -\n",
      "127.0.0.1 - - [19/May/2024 12:32:54] \"GET /static/images/car.png HTTP/1.1\" 304 -\n"
     ]
    },
    {
     "name": "stdout",
     "output_type": "stream",
     "text": [
      "Received message on topic: parking/place1\n",
      "Received message on topic: parking/place2\n",
      "Received message on topic: parking/place3\n",
      "Received message on topic: parking/carcount\n"
     ]
    },
    {
     "name": "stderr",
     "output_type": "stream",
     "text": [
      "127.0.0.1 - - [19/May/2024 12:32:58] \"GET / HTTP/1.1\" 200 -\n",
      "127.0.0.1 - - [19/May/2024 12:32:58] \"GET /static/images/car.png HTTP/1.1\" 304 -\n",
      "127.0.0.1 - - [19/May/2024 12:33:02] \"GET / HTTP/1.1\" 200 -\n",
      "127.0.0.1 - - [19/May/2024 12:33:02] \"GET /static/images/car.png HTTP/1.1\" 304 -\n",
      "127.0.0.1 - - [19/May/2024 12:33:06] \"GET / HTTP/1.1\" 200 -\n",
      "127.0.0.1 - - [19/May/2024 12:33:06] \"GET /static/images/car.png HTTP/1.1\" 304 -\n"
     ]
    },
    {
     "name": "stdout",
     "output_type": "stream",
     "text": [
      "Received message on topic: parking/place1\n",
      "Received message on topic: parking/place2\n",
      "Received message on topic: parking/place3\n",
      "Received message on topic: parking/carcount\n"
     ]
    },
    {
     "name": "stderr",
     "output_type": "stream",
     "text": [
      "127.0.0.1 - - [19/May/2024 12:33:10] \"GET / HTTP/1.1\" 200 -\n",
      "127.0.0.1 - - [19/May/2024 12:33:10] \"GET /static/images/car.png HTTP/1.1\" 304 -\n",
      "127.0.0.1 - - [19/May/2024 12:33:14] \"GET / HTTP/1.1\" 200 -\n",
      "127.0.0.1 - - [19/May/2024 12:33:14] \"GET /static/images/car.png HTTP/1.1\" 304 -\n"
     ]
    },
    {
     "name": "stdout",
     "output_type": "stream",
     "text": [
      "Received message on topic: parking/place1\n",
      "Received message on topic: parking/place2\n",
      "Received message on topic: parking/place3\n",
      "Received message on topic: parking/carcount\n"
     ]
    },
    {
     "name": "stderr",
     "output_type": "stream",
     "text": [
      "127.0.0.1 - - [19/May/2024 12:33:18] \"GET / HTTP/1.1\" 200 -\n",
      "127.0.0.1 - - [19/May/2024 12:33:18] \"GET /static/images/car.png HTTP/1.1\" 304 -\n",
      "127.0.0.1 - - [19/May/2024 12:33:22] \"GET / HTTP/1.1\" 200 -\n",
      "127.0.0.1 - - [19/May/2024 12:33:22] \"GET /static/images/car.png HTTP/1.1\" 304 -\n"
     ]
    },
    {
     "name": "stdout",
     "output_type": "stream",
     "text": [
      "Received message on topic: parking/place1\n",
      "Received message on topic: parking/place2\n",
      "Received message on topic: parking/place3\n",
      "Received message on topic: parking/carcount\n"
     ]
    },
    {
     "name": "stderr",
     "output_type": "stream",
     "text": [
      "127.0.0.1 - - [19/May/2024 12:33:26] \"GET / HTTP/1.1\" 200 -\n",
      "127.0.0.1 - - [19/May/2024 12:33:26] \"GET /static/images/car.png HTTP/1.1\" 304 -\n",
      "127.0.0.1 - - [19/May/2024 12:33:30] \"GET / HTTP/1.1\" 200 -\n",
      "127.0.0.1 - - [19/May/2024 12:33:30] \"GET /static/images/car.png HTTP/1.1\" 304 -\n",
      "127.0.0.1 - - [19/May/2024 12:33:34] \"GET / HTTP/1.1\" 200 -\n",
      "127.0.0.1 - - [19/May/2024 12:33:34] \"GET /static/images/car.png HTTP/1.1\" 304 -\n"
     ]
    },
    {
     "name": "stdout",
     "output_type": "stream",
     "text": [
      "Received message on topic: parking/place1\n",
      "Received message on topic: parking/place2\n",
      "Received message on topic: parking/place3\n",
      "Received message on topic: parking/carcount\n"
     ]
    },
    {
     "name": "stderr",
     "output_type": "stream",
     "text": [
      "127.0.0.1 - - [19/May/2024 12:33:38] \"GET / HTTP/1.1\" 200 -\n",
      "127.0.0.1 - - [19/May/2024 12:33:38] \"GET /static/images/car.png HTTP/1.1\" 304 -\n",
      "127.0.0.1 - - [19/May/2024 12:33:42] \"GET / HTTP/1.1\" 200 -\n",
      "127.0.0.1 - - [19/May/2024 12:33:42] \"GET /static/images/car.png HTTP/1.1\" 304 -\n"
     ]
    },
    {
     "name": "stdout",
     "output_type": "stream",
     "text": [
      "Received message on topic: parking/place1\n",
      "Received message on topic: parking/place2\n",
      "Received message on topic: parking/place3\n",
      "Received message on topic: parking/carcount\n"
     ]
    },
    {
     "name": "stderr",
     "output_type": "stream",
     "text": [
      "127.0.0.1 - - [19/May/2024 12:33:46] \"GET / HTTP/1.1\" 200 -\n",
      "127.0.0.1 - - [19/May/2024 12:33:50] \"GET / HTTP/1.1\" 200 -\n"
     ]
    },
    {
     "name": "stdout",
     "output_type": "stream",
     "text": [
      "Received message on topic: parking/place1\n",
      "Received message on topic: parking/place2\n",
      "Received message on topic: parking/place3\n",
      "Received message on topic: parking/carcount\n"
     ]
    },
    {
     "name": "stderr",
     "output_type": "stream",
     "text": [
      "127.0.0.1 - - [19/May/2024 12:33:54] \"GET / HTTP/1.1\" 200 -\n",
      "127.0.0.1 - - [19/May/2024 12:33:58] \"GET / HTTP/1.1\" 200 -\n"
     ]
    },
    {
     "name": "stdout",
     "output_type": "stream",
     "text": [
      "Received message on topic: parking/place1\n",
      "Received message on topic: parking/place2\n",
      "Received message on topic: parking/place3\n",
      "Received message on topic: parking/carcount\n"
     ]
    },
    {
     "name": "stderr",
     "output_type": "stream",
     "text": [
      "127.0.0.1 - - [19/May/2024 12:34:02] \"GET / HTTP/1.1\" 200 -\n",
      "127.0.0.1 - - [19/May/2024 12:34:02] \"GET /static/images/car.png HTTP/1.1\" 304 -\n",
      "127.0.0.1 - - [19/May/2024 12:34:06] \"GET / HTTP/1.1\" 200 -\n",
      "127.0.0.1 - - [19/May/2024 12:34:06] \"GET /static/images/car.png HTTP/1.1\" 304 -\n",
      "127.0.0.1 - - [19/May/2024 12:34:10] \"GET / HTTP/1.1\" 200 -\n",
      "127.0.0.1 - - [19/May/2024 12:34:10] \"GET /static/images/car.png HTTP/1.1\" 304 -\n"
     ]
    },
    {
     "name": "stdout",
     "output_type": "stream",
     "text": [
      "Received message on topic: parking/place1\n",
      "Received message on topic: parking/place2\n",
      "Received message on topic: parking/place3\n",
      "Received message on topic: parking/carcount\n"
     ]
    },
    {
     "name": "stderr",
     "output_type": "stream",
     "text": [
      "127.0.0.1 - - [19/May/2024 12:34:14] \"GET / HTTP/1.1\" 200 -\n",
      "127.0.0.1 - - [19/May/2024 12:34:14] \"GET /static/images/car.png HTTP/1.1\" 304 -\n",
      "127.0.0.1 - - [19/May/2024 12:34:18] \"GET / HTTP/1.1\" 200 -\n",
      "127.0.0.1 - - [19/May/2024 12:34:18] \"GET /static/images/car.png HTTP/1.1\" 304 -\n",
      "127.0.0.1 - - [19/May/2024 12:34:22] \"GET / HTTP/1.1\" 200 -\n",
      "127.0.0.1 - - [19/May/2024 12:34:22] \"GET /static/images/car.png HTTP/1.1\" 304 -\n"
     ]
    },
    {
     "name": "stdout",
     "output_type": "stream",
     "text": [
      "Received message on topic: parking/place1\n",
      "Received message on topic: parking/place2\n",
      "Received message on topic: parking/place3\n",
      "Received message on topic: parking/carcount\n"
     ]
    },
    {
     "name": "stderr",
     "output_type": "stream",
     "text": [
      "127.0.0.1 - - [19/May/2024 12:34:26] \"GET / HTTP/1.1\" 200 -\n",
      "127.0.0.1 - - [19/May/2024 12:34:26] \"GET /static/images/car.png HTTP/1.1\" 304 -\n",
      "127.0.0.1 - - [19/May/2024 12:34:30] \"GET / HTTP/1.1\" 200 -\n",
      "127.0.0.1 - - [19/May/2024 12:34:30] \"GET /static/images/car.png HTTP/1.1\" 304 -\n",
      "127.0.0.1 - - [19/May/2024 12:34:34] \"GET / HTTP/1.1\" 200 -\n",
      "127.0.0.1 - - [19/May/2024 12:34:34] \"GET /static/images/car.png HTTP/1.1\" 304 -\n"
     ]
    },
    {
     "name": "stdout",
     "output_type": "stream",
     "text": [
      "Received message on topic: parking/place1\n",
      "Received message on topic: parking/place2\n",
      "Received message on topic: parking/place3\n",
      "Received message on topic: parking/carcount\n"
     ]
    },
    {
     "name": "stderr",
     "output_type": "stream",
     "text": [
      "127.0.0.1 - - [19/May/2024 12:34:38] \"GET / HTTP/1.1\" 200 -\n",
      "127.0.0.1 - - [19/May/2024 12:34:38] \"GET /static/images/car.png HTTP/1.1\" 304 -\n",
      "127.0.0.1 - - [19/May/2024 12:34:42] \"GET / HTTP/1.1\" 200 -\n",
      "127.0.0.1 - - [19/May/2024 12:34:42] \"GET /static/images/car.png HTTP/1.1\" 304 -\n"
     ]
    },
    {
     "name": "stdout",
     "output_type": "stream",
     "text": [
      "Received message on topic: parking/place1\n",
      "Received message on topic: parking/place2\n",
      "Received message on topic: parking/place3\n",
      "Received message on topic: parking/carcount\n"
     ]
    },
    {
     "name": "stderr",
     "output_type": "stream",
     "text": [
      "127.0.0.1 - - [19/May/2024 12:34:46] \"GET / HTTP/1.1\" 200 -\n",
      "127.0.0.1 - - [19/May/2024 12:34:46] \"GET /static/images/car.png HTTP/1.1\" 304 -\n",
      "127.0.0.1 - - [19/May/2024 12:34:50] \"GET / HTTP/1.1\" 200 -\n",
      "127.0.0.1 - - [19/May/2024 12:34:50] \"GET /static/images/car.png HTTP/1.1\" 304 -\n",
      "127.0.0.1 - - [19/May/2024 12:34:54] \"GET / HTTP/1.1\" 200 -\n",
      "127.0.0.1 - - [19/May/2024 12:34:54] \"GET /static/images/car.png HTTP/1.1\" 304 -\n"
     ]
    },
    {
     "name": "stdout",
     "output_type": "stream",
     "text": [
      "Received message on topic: parking/place1\n",
      "Received message on topic: parking/place2\n",
      "Received message on topic: parking/place3\n",
      "Received message on topic: parking/carcount\n"
     ]
    },
    {
     "name": "stderr",
     "output_type": "stream",
     "text": [
      "127.0.0.1 - - [19/May/2024 12:34:58] \"GET / HTTP/1.1\" 200 -\n",
      "127.0.0.1 - - [19/May/2024 12:34:58] \"GET /static/images/car.png HTTP/1.1\" 304 -\n",
      "127.0.0.1 - - [19/May/2024 12:35:02] \"GET / HTTP/1.1\" 200 -\n",
      "127.0.0.1 - - [19/May/2024 12:35:02] \"GET /static/images/car.png HTTP/1.1\" 304 -\n"
     ]
    },
    {
     "name": "stdout",
     "output_type": "stream",
     "text": [
      "Received message on topic: parking/place1\n",
      "Received message on topic: parking/place2\n",
      "Received message on topic: parking/place3\n",
      "Received message on topic: parking/carcount\n"
     ]
    },
    {
     "name": "stderr",
     "output_type": "stream",
     "text": [
      "127.0.0.1 - - [19/May/2024 12:35:06] \"GET / HTTP/1.1\" 200 -\n",
      "127.0.0.1 - - [19/May/2024 12:35:06] \"GET /static/images/car.png HTTP/1.1\" 304 -\n",
      "127.0.0.1 - - [19/May/2024 12:35:10] \"GET / HTTP/1.1\" 200 -\n",
      "127.0.0.1 - - [19/May/2024 12:35:10] \"GET /static/images/car.png HTTP/1.1\" 304 -\n",
      "127.0.0.1 - - [19/May/2024 12:35:14] \"GET / HTTP/1.1\" 200 -\n",
      "127.0.0.1 - - [19/May/2024 12:35:14] \"GET /static/images/car.png HTTP/1.1\" 304 -\n"
     ]
    },
    {
     "name": "stdout",
     "output_type": "stream",
     "text": [
      "Received message on topic: parking/place1\n",
      "Received message on topic: parking/place2\n",
      "Received message on topic: parking/place3\n",
      "Received message on topic: parking/carcount\n"
     ]
    },
    {
     "name": "stderr",
     "output_type": "stream",
     "text": [
      "127.0.0.1 - - [19/May/2024 12:35:18] \"GET / HTTP/1.1\" 200 -\n",
      "127.0.0.1 - - [19/May/2024 12:35:18] \"GET /static/images/car.png HTTP/1.1\" 304 -\n",
      "127.0.0.1 - - [19/May/2024 12:35:22] \"GET / HTTP/1.1\" 200 -\n",
      "127.0.0.1 - - [19/May/2024 12:35:22] \"GET /static/images/car.png HTTP/1.1\" 304 -\n",
      "127.0.0.1 - - [19/May/2024 12:35:26] \"GET / HTTP/1.1\" 200 -\n",
      "127.0.0.1 - - [19/May/2024 12:35:26] \"GET /static/images/car.png HTTP/1.1\" 304 -\n",
      "127.0.0.1 - - [19/May/2024 12:35:30] \"GET / HTTP/1.1\" 200 -\n",
      "127.0.0.1 - - [19/May/2024 12:35:30] \"GET /static/images/car.png HTTP/1.1\" 304 -\n",
      "127.0.0.1 - - [19/May/2024 12:35:34] \"GET / HTTP/1.1\" 200 -\n",
      "127.0.0.1 - - [19/May/2024 12:35:34] \"GET /static/images/car.png HTTP/1.1\" 304 -\n",
      "127.0.0.1 - - [19/May/2024 12:35:38] \"GET / HTTP/1.1\" 200 -\n",
      "127.0.0.1 - - [19/May/2024 12:35:38] \"GET /static/images/car.png HTTP/1.1\" 304 -\n"
     ]
    },
    {
     "name": "stdout",
     "output_type": "stream",
     "text": [
      "Received message on topic: parking/place1\n",
      "Received message on topic: parking/place2\n",
      "Received message on topic: parking/place3\n",
      "Received message on topic: parking/carcount\n"
     ]
    },
    {
     "name": "stderr",
     "output_type": "stream",
     "text": [
      "127.0.0.1 - - [19/May/2024 12:35:42] \"GET / HTTP/1.1\" 200 -\n",
      "127.0.0.1 - - [19/May/2024 12:35:42] \"GET /static/images/car.png HTTP/1.1\" 304 -\n",
      "127.0.0.1 - - [19/May/2024 12:35:46] \"GET / HTTP/1.1\" 200 -\n",
      "127.0.0.1 - - [19/May/2024 12:35:46] \"GET /static/images/car.png HTTP/1.1\" 304 -\n",
      "127.0.0.1 - - [19/May/2024 12:35:50] \"GET / HTTP/1.1\" 200 -\n",
      "127.0.0.1 - - [19/May/2024 12:35:50] \"GET /static/images/car.png HTTP/1.1\" 304 -\n",
      "127.0.0.1 - - [19/May/2024 12:35:54] \"GET / HTTP/1.1\" 200 -\n",
      "127.0.0.1 - - [19/May/2024 12:35:54] \"GET /static/images/car.png HTTP/1.1\" 304 -\n",
      "127.0.0.1 - - [19/May/2024 12:35:58] \"GET / HTTP/1.1\" 200 -\n",
      "127.0.0.1 - - [19/May/2024 12:35:58] \"GET /static/images/car.png HTTP/1.1\" 304 -\n",
      "127.0.0.1 - - [19/May/2024 12:36:02] \"GET / HTTP/1.1\" 200 -\n",
      "127.0.0.1 - - [19/May/2024 12:36:02] \"GET /static/images/car.png HTTP/1.1\" 304 -\n",
      "127.0.0.1 - - [19/May/2024 12:36:06] \"GET / HTTP/1.1\" 200 -\n",
      "127.0.0.1 - - [19/May/2024 12:36:06] \"GET /static/images/car.png HTTP/1.1\" 304 -\n",
      "127.0.0.1 - - [19/May/2024 12:36:10] \"GET / HTTP/1.1\" 200 -\n",
      "127.0.0.1 - - [19/May/2024 12:36:10] \"GET /static/images/car.png HTTP/1.1\" 304 -\n",
      "127.0.0.1 - - [19/May/2024 12:36:14] \"GET / HTTP/1.1\" 200 -\n",
      "127.0.0.1 - - [19/May/2024 12:36:14] \"GET /static/images/car.png HTTP/1.1\" 304 -\n",
      "127.0.0.1 - - [19/May/2024 12:36:18] \"GET / HTTP/1.1\" 200 -\n",
      "127.0.0.1 - - [19/May/2024 12:36:18] \"GET /static/images/car.png HTTP/1.1\" 304 -\n",
      "127.0.0.1 - - [19/May/2024 12:36:22] \"GET / HTTP/1.1\" 200 -\n",
      "127.0.0.1 - - [19/May/2024 12:36:22] \"GET /static/images/car.png HTTP/1.1\" 304 -\n",
      "127.0.0.1 - - [19/May/2024 12:36:26] \"GET / HTTP/1.1\" 200 -\n",
      "127.0.0.1 - - [19/May/2024 12:36:26] \"GET /static/images/car.png HTTP/1.1\" 304 -\n",
      "127.0.0.1 - - [19/May/2024 12:36:30] \"GET / HTTP/1.1\" 200 -\n",
      "127.0.0.1 - - [19/May/2024 12:36:30] \"GET /static/images/car.png HTTP/1.1\" 304 -\n",
      "127.0.0.1 - - [19/May/2024 12:36:34] \"GET / HTTP/1.1\" 200 -\n",
      "127.0.0.1 - - [19/May/2024 12:36:34] \"GET /static/images/car.png HTTP/1.1\" 304 -\n",
      "127.0.0.1 - - [19/May/2024 12:36:38] \"GET / HTTP/1.1\" 200 -\n",
      "127.0.0.1 - - [19/May/2024 12:36:38] \"GET /static/images/car.png HTTP/1.1\" 304 -\n",
      "127.0.0.1 - - [19/May/2024 12:36:42] \"GET / HTTP/1.1\" 200 -\n",
      "127.0.0.1 - - [19/May/2024 12:36:42] \"GET /static/images/car.png HTTP/1.1\" 304 -\n",
      "127.0.0.1 - - [19/May/2024 12:36:46] \"GET / HTTP/1.1\" 200 -\n",
      "127.0.0.1 - - [19/May/2024 12:36:46] \"GET /static/images/car.png HTTP/1.1\" 304 -\n",
      "127.0.0.1 - - [19/May/2024 12:36:50] \"GET / HTTP/1.1\" 200 -\n",
      "127.0.0.1 - - [19/May/2024 12:36:50] \"GET /static/images/car.png HTTP/1.1\" 304 -\n",
      "127.0.0.1 - - [19/May/2024 12:36:54] \"GET / HTTP/1.1\" 200 -\n",
      "127.0.0.1 - - [19/May/2024 12:36:54] \"GET /static/images/car.png HTTP/1.1\" 304 -\n",
      "127.0.0.1 - - [19/May/2024 12:36:58] \"GET / HTTP/1.1\" 200 -\n",
      "127.0.0.1 - - [19/May/2024 12:36:58] \"GET /static/images/car.png HTTP/1.1\" 304 -\n",
      "127.0.0.1 - - [19/May/2024 12:37:02] \"GET / HTTP/1.1\" 200 -\n",
      "127.0.0.1 - - [19/May/2024 12:37:02] \"GET /static/images/car.png HTTP/1.1\" 304 -\n",
      "127.0.0.1 - - [19/May/2024 12:37:06] \"GET / HTTP/1.1\" 200 -\n",
      "127.0.0.1 - - [19/May/2024 12:37:06] \"GET /static/images/car.png HTTP/1.1\" 304 -\n",
      "127.0.0.1 - - [19/May/2024 12:37:10] \"GET / HTTP/1.1\" 200 -\n",
      "127.0.0.1 - - [19/May/2024 12:37:10] \"GET /static/images/car.png HTTP/1.1\" 304 -\n",
      "127.0.0.1 - - [19/May/2024 12:37:14] \"GET / HTTP/1.1\" 200 -\n",
      "127.0.0.1 - - [19/May/2024 12:37:14] \"GET /static/images/car.png HTTP/1.1\" 304 -\n",
      "127.0.0.1 - - [19/May/2024 12:37:18] \"GET / HTTP/1.1\" 200 -\n",
      "127.0.0.1 - - [19/May/2024 12:37:18] \"GET /static/images/car.png HTTP/1.1\" 304 -\n",
      "127.0.0.1 - - [19/May/2024 12:37:22] \"GET / HTTP/1.1\" 200 -\n",
      "127.0.0.1 - - [19/May/2024 12:37:22] \"GET /static/images/car.png HTTP/1.1\" 304 -\n",
      "127.0.0.1 - - [19/May/2024 12:37:26] \"GET / HTTP/1.1\" 200 -\n",
      "127.0.0.1 - - [19/May/2024 12:37:26] \"GET /static/images/car.png HTTP/1.1\" 304 -\n",
      "127.0.0.1 - - [19/May/2024 12:37:30] \"GET / HTTP/1.1\" 200 -\n",
      "127.0.0.1 - - [19/May/2024 12:37:30] \"GET /static/images/car.png HTTP/1.1\" 304 -\n",
      "127.0.0.1 - - [19/May/2024 12:37:34] \"GET / HTTP/1.1\" 200 -\n",
      "127.0.0.1 - - [19/May/2024 12:37:34] \"GET /static/images/car.png HTTP/1.1\" 304 -\n",
      "127.0.0.1 - - [19/May/2024 12:37:38] \"GET / HTTP/1.1\" 200 -\n",
      "127.0.0.1 - - [19/May/2024 12:37:38] \"GET /static/images/car.png HTTP/1.1\" 304 -\n",
      "127.0.0.1 - - [19/May/2024 12:37:42] \"GET / HTTP/1.1\" 200 -\n",
      "127.0.0.1 - - [19/May/2024 12:37:42] \"GET /static/images/car.png HTTP/1.1\" 304 -\n",
      "127.0.0.1 - - [19/May/2024 12:37:46] \"GET / HTTP/1.1\" 200 -\n",
      "127.0.0.1 - - [19/May/2024 12:37:46] \"GET /static/images/car.png HTTP/1.1\" 304 -\n",
      "127.0.0.1 - - [19/May/2024 12:37:50] \"GET / HTTP/1.1\" 200 -\n",
      "127.0.0.1 - - [19/May/2024 12:37:50] \"GET /static/images/car.png HTTP/1.1\" 304 -\n",
      "127.0.0.1 - - [19/May/2024 12:37:54] \"GET / HTTP/1.1\" 200 -\n",
      "127.0.0.1 - - [19/May/2024 12:37:54] \"GET /static/images/car.png HTTP/1.1\" 304 -\n",
      "127.0.0.1 - - [19/May/2024 12:37:58] \"GET / HTTP/1.1\" 200 -\n",
      "127.0.0.1 - - [19/May/2024 12:37:58] \"GET /static/images/car.png HTTP/1.1\" 304 -\n",
      "127.0.0.1 - - [19/May/2024 12:38:02] \"GET / HTTP/1.1\" 200 -\n",
      "127.0.0.1 - - [19/May/2024 12:38:02] \"GET /static/images/car.png HTTP/1.1\" 304 -\n",
      "127.0.0.1 - - [19/May/2024 12:38:06] \"GET / HTTP/1.1\" 200 -\n",
      "127.0.0.1 - - [19/May/2024 12:38:06] \"GET /static/images/car.png HTTP/1.1\" 304 -\n",
      "127.0.0.1 - - [19/May/2024 12:38:10] \"GET / HTTP/1.1\" 200 -\n",
      "127.0.0.1 - - [19/May/2024 12:38:10] \"GET /static/images/car.png HTTP/1.1\" 304 -\n",
      "127.0.0.1 - - [19/May/2024 12:38:14] \"GET / HTTP/1.1\" 200 -\n",
      "127.0.0.1 - - [19/May/2024 12:38:14] \"GET /static/images/car.png HTTP/1.1\" 304 -\n",
      "127.0.0.1 - - [19/May/2024 12:38:18] \"GET / HTTP/1.1\" 200 -\n",
      "127.0.0.1 - - [19/May/2024 12:38:18] \"GET /static/images/car.png HTTP/1.1\" 304 -\n",
      "127.0.0.1 - - [19/May/2024 12:38:22] \"GET / HTTP/1.1\" 200 -\n",
      "127.0.0.1 - - [19/May/2024 12:38:22] \"GET /static/images/car.png HTTP/1.1\" 304 -\n",
      "127.0.0.1 - - [19/May/2024 12:38:26] \"GET / HTTP/1.1\" 200 -\n",
      "127.0.0.1 - - [19/May/2024 12:38:26] \"GET /static/images/car.png HTTP/1.1\" 304 -\n",
      "127.0.0.1 - - [19/May/2024 12:38:30] \"GET / HTTP/1.1\" 200 -\n",
      "127.0.0.1 - - [19/May/2024 12:38:30] \"GET /static/images/car.png HTTP/1.1\" 304 -\n",
      "127.0.0.1 - - [19/May/2024 12:38:34] \"GET / HTTP/1.1\" 200 -\n",
      "127.0.0.1 - - [19/May/2024 12:38:34] \"GET /static/images/car.png HTTP/1.1\" 304 -\n",
      "127.0.0.1 - - [19/May/2024 12:38:38] \"GET / HTTP/1.1\" 200 -\n",
      "127.0.0.1 - - [19/May/2024 12:38:38] \"GET /static/images/car.png HTTP/1.1\" 304 -\n",
      "127.0.0.1 - - [19/May/2024 12:38:42] \"GET / HTTP/1.1\" 200 -\n",
      "127.0.0.1 - - [19/May/2024 12:38:42] \"GET /static/images/car.png HTTP/1.1\" 304 -\n",
      "127.0.0.1 - - [19/May/2024 12:38:46] \"GET / HTTP/1.1\" 200 -\n",
      "127.0.0.1 - - [19/May/2024 12:38:46] \"GET /static/images/car.png HTTP/1.1\" 304 -\n",
      "127.0.0.1 - - [19/May/2024 12:38:50] \"GET / HTTP/1.1\" 200 -\n",
      "127.0.0.1 - - [19/May/2024 12:38:50] \"GET /static/images/car.png HTTP/1.1\" 304 -\n",
      "127.0.0.1 - - [19/May/2024 12:38:54] \"GET / HTTP/1.1\" 200 -\n",
      "127.0.0.1 - - [19/May/2024 12:38:54] \"GET /static/images/car.png HTTP/1.1\" 304 -\n",
      "127.0.0.1 - - [19/May/2024 12:38:58] \"GET / HTTP/1.1\" 200 -\n",
      "127.0.0.1 - - [19/May/2024 12:38:58] \"GET /static/images/car.png HTTP/1.1\" 304 -\n",
      "127.0.0.1 - - [19/May/2024 12:39:02] \"GET / HTTP/1.1\" 200 -\n",
      "127.0.0.1 - - [19/May/2024 12:39:02] \"GET /static/images/car.png HTTP/1.1\" 304 -\n",
      "127.0.0.1 - - [19/May/2024 12:39:06] \"GET / HTTP/1.1\" 200 -\n",
      "127.0.0.1 - - [19/May/2024 12:39:06] \"GET /static/images/car.png HTTP/1.1\" 304 -\n",
      "127.0.0.1 - - [19/May/2024 12:39:10] \"GET / HTTP/1.1\" 200 -\n",
      "127.0.0.1 - - [19/May/2024 12:39:10] \"GET /static/images/car.png HTTP/1.1\" 304 -\n",
      "127.0.0.1 - - [19/May/2024 12:39:14] \"GET / HTTP/1.1\" 200 -\n",
      "127.0.0.1 - - [19/May/2024 12:39:14] \"GET /static/images/car.png HTTP/1.1\" 304 -\n",
      "127.0.0.1 - - [19/May/2024 12:39:18] \"GET / HTTP/1.1\" 200 -\n",
      "127.0.0.1 - - [19/May/2024 12:39:18] \"GET /static/images/car.png HTTP/1.1\" 304 -\n",
      "127.0.0.1 - - [19/May/2024 12:39:22] \"GET / HTTP/1.1\" 200 -\n",
      "127.0.0.1 - - [19/May/2024 12:39:22] \"GET /static/images/car.png HTTP/1.1\" 304 -\n",
      "127.0.0.1 - - [19/May/2024 12:39:26] \"GET / HTTP/1.1\" 200 -\n",
      "127.0.0.1 - - [19/May/2024 12:39:26] \"GET /static/images/car.png HTTP/1.1\" 304 -\n",
      "127.0.0.1 - - [19/May/2024 12:39:30] \"GET / HTTP/1.1\" 200 -\n",
      "127.0.0.1 - - [19/May/2024 12:39:30] \"GET /static/images/car.png HTTP/1.1\" 304 -\n",
      "127.0.0.1 - - [19/May/2024 12:39:34] \"GET / HTTP/1.1\" 200 -\n",
      "127.0.0.1 - - [19/May/2024 12:39:34] \"GET /static/images/car.png HTTP/1.1\" 304 -\n",
      "127.0.0.1 - - [19/May/2024 12:39:38] \"GET / HTTP/1.1\" 200 -\n",
      "127.0.0.1 - - [19/May/2024 12:39:38] \"GET /static/images/car.png HTTP/1.1\" 304 -\n",
      "127.0.0.1 - - [19/May/2024 12:39:42] \"GET / HTTP/1.1\" 200 -\n",
      "127.0.0.1 - - [19/May/2024 12:39:42] \"GET /static/images/car.png HTTP/1.1\" 304 -\n",
      "127.0.0.1 - - [19/May/2024 12:39:46] \"GET / HTTP/1.1\" 200 -\n",
      "127.0.0.1 - - [19/May/2024 12:39:46] \"GET /static/images/car.png HTTP/1.1\" 304 -\n",
      "127.0.0.1 - - [19/May/2024 12:39:50] \"GET / HTTP/1.1\" 200 -\n",
      "127.0.0.1 - - [19/May/2024 12:39:50] \"GET /static/images/car.png HTTP/1.1\" 304 -\n",
      "127.0.0.1 - - [19/May/2024 12:39:54] \"GET / HTTP/1.1\" 200 -\n",
      "127.0.0.1 - - [19/May/2024 12:39:54] \"GET /static/images/car.png HTTP/1.1\" 304 -\n",
      "127.0.0.1 - - [19/May/2024 12:39:58] \"GET / HTTP/1.1\" 200 -\n",
      "127.0.0.1 - - [19/May/2024 12:39:58] \"GET /static/images/car.png HTTP/1.1\" 304 -\n",
      "127.0.0.1 - - [19/May/2024 12:40:02] \"GET / HTTP/1.1\" 200 -\n",
      "127.0.0.1 - - [19/May/2024 12:40:02] \"GET /static/images/car.png HTTP/1.1\" 304 -\n",
      "127.0.0.1 - - [19/May/2024 12:40:06] \"GET / HTTP/1.1\" 200 -\n",
      "127.0.0.1 - - [19/May/2024 12:40:06] \"GET /static/images/car.png HTTP/1.1\" 304 -\n",
      "127.0.0.1 - - [19/May/2024 12:40:10] \"GET / HTTP/1.1\" 200 -\n",
      "127.0.0.1 - - [19/May/2024 12:40:10] \"GET /static/images/car.png HTTP/1.1\" 304 -\n",
      "127.0.0.1 - - [19/May/2024 12:40:14] \"GET / HTTP/1.1\" 200 -\n",
      "127.0.0.1 - - [19/May/2024 12:40:14] \"GET /static/images/car.png HTTP/1.1\" 304 -\n",
      "127.0.0.1 - - [19/May/2024 12:40:18] \"GET / HTTP/1.1\" 200 -\n",
      "127.0.0.1 - - [19/May/2024 12:40:18] \"GET /static/images/car.png HTTP/1.1\" 304 -\n",
      "127.0.0.1 - - [19/May/2024 12:40:22] \"GET / HTTP/1.1\" 200 -\n",
      "127.0.0.1 - - [19/May/2024 12:40:22] \"GET /static/images/car.png HTTP/1.1\" 304 -\n",
      "127.0.0.1 - - [19/May/2024 12:40:26] \"GET / HTTP/1.1\" 200 -\n",
      "127.0.0.1 - - [19/May/2024 12:40:26] \"GET /static/images/car.png HTTP/1.1\" 304 -\n",
      "127.0.0.1 - - [19/May/2024 12:40:30] \"GET / HTTP/1.1\" 200 -\n",
      "127.0.0.1 - - [19/May/2024 12:40:30] \"GET /static/images/car.png HTTP/1.1\" 304 -\n",
      "127.0.0.1 - - [19/May/2024 12:40:34] \"GET / HTTP/1.1\" 200 -\n",
      "127.0.0.1 - - [19/May/2024 12:40:34] \"GET /static/images/car.png HTTP/1.1\" 304 -\n",
      "127.0.0.1 - - [19/May/2024 12:40:38] \"GET / HTTP/1.1\" 200 -\n",
      "127.0.0.1 - - [19/May/2024 12:40:38] \"GET /static/images/car.png HTTP/1.1\" 304 -\n",
      "127.0.0.1 - - [19/May/2024 12:40:42] \"GET / HTTP/1.1\" 200 -\n",
      "127.0.0.1 - - [19/May/2024 12:40:42] \"GET /static/images/car.png HTTP/1.1\" 304 -\n",
      "127.0.0.1 - - [19/May/2024 12:40:46] \"GET / HTTP/1.1\" 200 -\n",
      "127.0.0.1 - - [19/May/2024 12:40:46] \"GET /static/images/car.png HTTP/1.1\" 304 -\n",
      "127.0.0.1 - - [19/May/2024 12:40:50] \"GET / HTTP/1.1\" 200 -\n",
      "127.0.0.1 - - [19/May/2024 12:40:50] \"GET /static/images/car.png HTTP/1.1\" 304 -\n",
      "127.0.0.1 - - [19/May/2024 12:40:54] \"GET / HTTP/1.1\" 200 -\n",
      "127.0.0.1 - - [19/May/2024 12:40:54] \"GET /static/images/car.png HTTP/1.1\" 304 -\n",
      "127.0.0.1 - - [19/May/2024 12:40:58] \"GET / HTTP/1.1\" 200 -\n",
      "127.0.0.1 - - [19/May/2024 12:40:58] \"GET /static/images/car.png HTTP/1.1\" 304 -\n",
      "127.0.0.1 - - [19/May/2024 12:41:02] \"GET / HTTP/1.1\" 200 -\n",
      "127.0.0.1 - - [19/May/2024 12:41:02] \"GET /static/images/car.png HTTP/1.1\" 304 -\n",
      "127.0.0.1 - - [19/May/2024 12:41:06] \"GET / HTTP/1.1\" 200 -\n",
      "127.0.0.1 - - [19/May/2024 12:41:06] \"GET /static/images/car.png HTTP/1.1\" 304 -\n",
      "127.0.0.1 - - [19/May/2024 12:41:10] \"GET / HTTP/1.1\" 200 -\n",
      "127.0.0.1 - - [19/May/2024 12:41:10] \"GET /static/images/car.png HTTP/1.1\" 304 -\n",
      "127.0.0.1 - - [19/May/2024 12:41:14] \"GET / HTTP/1.1\" 200 -\n",
      "127.0.0.1 - - [19/May/2024 12:41:14] \"GET /static/images/car.png HTTP/1.1\" 304 -\n",
      "127.0.0.1 - - [19/May/2024 12:41:18] \"GET / HTTP/1.1\" 200 -\n",
      "127.0.0.1 - - [19/May/2024 12:41:18] \"GET /static/images/car.png HTTP/1.1\" 304 -\n",
      "127.0.0.1 - - [19/May/2024 12:41:22] \"GET / HTTP/1.1\" 200 -\n",
      "127.0.0.1 - - [19/May/2024 12:41:22] \"GET /static/images/car.png HTTP/1.1\" 304 -\n",
      "127.0.0.1 - - [19/May/2024 12:41:26] \"GET / HTTP/1.1\" 200 -\n",
      "127.0.0.1 - - [19/May/2024 12:41:26] \"GET /static/images/car.png HTTP/1.1\" 304 -\n",
      "127.0.0.1 - - [19/May/2024 12:41:30] \"GET / HTTP/1.1\" 200 -\n",
      "127.0.0.1 - - [19/May/2024 12:41:30] \"GET /static/images/car.png HTTP/1.1\" 304 -\n",
      "127.0.0.1 - - [19/May/2024 12:41:34] \"GET / HTTP/1.1\" 200 -\n",
      "127.0.0.1 - - [19/May/2024 12:41:34] \"GET /static/images/car.png HTTP/1.1\" 304 -\n",
      "127.0.0.1 - - [19/May/2024 12:41:38] \"GET / HTTP/1.1\" 200 -\n",
      "127.0.0.1 - - [19/May/2024 12:41:38] \"GET /static/images/car.png HTTP/1.1\" 304 -\n",
      "127.0.0.1 - - [19/May/2024 12:41:42] \"GET / HTTP/1.1\" 200 -\n",
      "127.0.0.1 - - [19/May/2024 12:41:42] \"GET /static/images/car.png HTTP/1.1\" 304 -\n",
      "127.0.0.1 - - [19/May/2024 12:41:46] \"GET / HTTP/1.1\" 200 -\n",
      "127.0.0.1 - - [19/May/2024 12:41:46] \"GET /static/images/car.png HTTP/1.1\" 304 -\n",
      "127.0.0.1 - - [19/May/2024 12:41:50] \"GET / HTTP/1.1\" 200 -\n",
      "127.0.0.1 - - [19/May/2024 12:41:50] \"GET /static/images/car.png HTTP/1.1\" 304 -\n",
      "127.0.0.1 - - [19/May/2024 12:41:54] \"GET / HTTP/1.1\" 200 -\n",
      "127.0.0.1 - - [19/May/2024 12:41:54] \"GET /static/images/car.png HTTP/1.1\" 304 -\n",
      "127.0.0.1 - - [19/May/2024 12:41:58] \"GET / HTTP/1.1\" 200 -\n",
      "127.0.0.1 - - [19/May/2024 12:41:58] \"GET /static/images/car.png HTTP/1.1\" 304 -\n",
      "127.0.0.1 - - [19/May/2024 12:42:02] \"GET / HTTP/1.1\" 200 -\n",
      "127.0.0.1 - - [19/May/2024 12:42:02] \"GET /static/images/car.png HTTP/1.1\" 304 -\n",
      "127.0.0.1 - - [19/May/2024 12:42:06] \"GET / HTTP/1.1\" 200 -\n",
      "127.0.0.1 - - [19/May/2024 12:42:06] \"GET /static/images/car.png HTTP/1.1\" 304 -\n",
      "127.0.0.1 - - [19/May/2024 12:42:10] \"GET / HTTP/1.1\" 200 -\n",
      "127.0.0.1 - - [19/May/2024 12:42:10] \"GET /static/images/car.png HTTP/1.1\" 304 -\n",
      "127.0.0.1 - - [19/May/2024 12:42:14] \"GET / HTTP/1.1\" 200 -\n",
      "127.0.0.1 - - [19/May/2024 12:42:14] \"GET /static/images/car.png HTTP/1.1\" 304 -\n",
      "127.0.0.1 - - [19/May/2024 12:42:18] \"GET / HTTP/1.1\" 200 -\n",
      "127.0.0.1 - - [19/May/2024 12:42:18] \"GET /static/images/car.png HTTP/1.1\" 304 -\n",
      "127.0.0.1 - - [19/May/2024 12:42:22] \"GET / HTTP/1.1\" 200 -\n",
      "127.0.0.1 - - [19/May/2024 12:42:22] \"GET /static/images/car.png HTTP/1.1\" 304 -\n",
      "127.0.0.1 - - [19/May/2024 12:42:26] \"GET / HTTP/1.1\" 200 -\n",
      "127.0.0.1 - - [19/May/2024 12:42:26] \"GET /static/images/car.png HTTP/1.1\" 304 -\n",
      "127.0.0.1 - - [19/May/2024 12:42:30] \"GET / HTTP/1.1\" 200 -\n",
      "127.0.0.1 - - [19/May/2024 12:42:30] \"GET /static/images/car.png HTTP/1.1\" 304 -\n",
      "127.0.0.1 - - [19/May/2024 12:42:34] \"GET / HTTP/1.1\" 200 -\n",
      "127.0.0.1 - - [19/May/2024 12:42:34] \"GET /static/images/car.png HTTP/1.1\" 304 -\n",
      "127.0.0.1 - - [19/May/2024 12:42:38] \"GET / HTTP/1.1\" 200 -\n",
      "127.0.0.1 - - [19/May/2024 12:42:38] \"GET /static/images/car.png HTTP/1.1\" 304 -\n",
      "127.0.0.1 - - [19/May/2024 12:42:42] \"GET / HTTP/1.1\" 200 -\n",
      "127.0.0.1 - - [19/May/2024 12:42:42] \"GET /static/images/car.png HTTP/1.1\" 304 -\n",
      "127.0.0.1 - - [19/May/2024 12:42:46] \"GET / HTTP/1.1\" 200 -\n",
      "127.0.0.1 - - [19/May/2024 12:42:46] \"GET /static/images/car.png HTTP/1.1\" 304 -\n",
      "127.0.0.1 - - [19/May/2024 12:42:50] \"GET / HTTP/1.1\" 200 -\n",
      "127.0.0.1 - - [19/May/2024 12:42:50] \"GET /static/images/car.png HTTP/1.1\" 304 -\n",
      "127.0.0.1 - - [19/May/2024 12:42:54] \"GET / HTTP/1.1\" 200 -\n",
      "127.0.0.1 - - [19/May/2024 12:42:54] \"GET /static/images/car.png HTTP/1.1\" 304 -\n",
      "127.0.0.1 - - [19/May/2024 12:42:58] \"GET / HTTP/1.1\" 200 -\n",
      "127.0.0.1 - - [19/May/2024 12:42:58] \"GET /static/images/car.png HTTP/1.1\" 304 -\n",
      "127.0.0.1 - - [19/May/2024 12:43:02] \"GET / HTTP/1.1\" 200 -\n",
      "127.0.0.1 - - [19/May/2024 12:43:02] \"GET /static/images/car.png HTTP/1.1\" 304 -\n",
      "127.0.0.1 - - [19/May/2024 12:43:06] \"GET / HTTP/1.1\" 200 -\n",
      "127.0.0.1 - - [19/May/2024 12:43:06] \"GET /static/images/car.png HTTP/1.1\" 304 -\n",
      "127.0.0.1 - - [19/May/2024 12:43:10] \"GET / HTTP/1.1\" 200 -\n",
      "127.0.0.1 - - [19/May/2024 12:43:10] \"GET /static/images/car.png HTTP/1.1\" 304 -\n",
      "127.0.0.1 - - [19/May/2024 12:43:14] \"GET / HTTP/1.1\" 200 -\n",
      "127.0.0.1 - - [19/May/2024 12:43:14] \"GET /static/images/car.png HTTP/1.1\" 304 -\n",
      "127.0.0.1 - - [19/May/2024 12:43:18] \"GET / HTTP/1.1\" 200 -\n",
      "127.0.0.1 - - [19/May/2024 12:43:18] \"GET /static/images/car.png HTTP/1.1\" 304 -\n",
      "127.0.0.1 - - [19/May/2024 12:43:22] \"GET / HTTP/1.1\" 200 -\n",
      "127.0.0.1 - - [19/May/2024 12:43:22] \"GET /static/images/car.png HTTP/1.1\" 304 -\n",
      "127.0.0.1 - - [19/May/2024 12:43:26] \"GET / HTTP/1.1\" 200 -\n",
      "127.0.0.1 - - [19/May/2024 12:43:26] \"GET /static/images/car.png HTTP/1.1\" 304 -\n",
      "127.0.0.1 - - [19/May/2024 12:43:30] \"GET / HTTP/1.1\" 200 -\n",
      "127.0.0.1 - - [19/May/2024 12:43:30] \"GET /static/images/car.png HTTP/1.1\" 304 -\n",
      "127.0.0.1 - - [19/May/2024 12:43:34] \"GET / HTTP/1.1\" 200 -\n",
      "127.0.0.1 - - [19/May/2024 12:43:34] \"GET /static/images/car.png HTTP/1.1\" 304 -\n",
      "127.0.0.1 - - [19/May/2024 12:43:38] \"GET / HTTP/1.1\" 200 -\n",
      "127.0.0.1 - - [19/May/2024 12:43:38] \"GET /static/images/car.png HTTP/1.1\" 304 -\n",
      "127.0.0.1 - - [19/May/2024 12:43:42] \"GET / HTTP/1.1\" 200 -\n",
      "127.0.0.1 - - [19/May/2024 12:43:42] \"GET /static/images/car.png HTTP/1.1\" 304 -\n",
      "127.0.0.1 - - [19/May/2024 12:43:46] \"GET / HTTP/1.1\" 200 -\n",
      "127.0.0.1 - - [19/May/2024 12:43:46] \"GET /static/images/car.png HTTP/1.1\" 304 -\n",
      "127.0.0.1 - - [19/May/2024 12:43:50] \"GET / HTTP/1.1\" 200 -\n",
      "127.0.0.1 - - [19/May/2024 12:43:50] \"GET /static/images/car.png HTTP/1.1\" 304 -\n",
      "127.0.0.1 - - [19/May/2024 12:43:54] \"GET / HTTP/1.1\" 200 -\n",
      "127.0.0.1 - - [19/May/2024 12:43:54] \"GET /static/images/car.png HTTP/1.1\" 304 -\n",
      "127.0.0.1 - - [19/May/2024 12:43:58] \"GET / HTTP/1.1\" 200 -\n",
      "127.0.0.1 - - [19/May/2024 12:43:58] \"GET /static/images/car.png HTTP/1.1\" 304 -\n",
      "127.0.0.1 - - [19/May/2024 12:44:02] \"GET / HTTP/1.1\" 200 -\n",
      "127.0.0.1 - - [19/May/2024 12:44:02] \"GET /static/images/car.png HTTP/1.1\" 304 -\n",
      "127.0.0.1 - - [19/May/2024 12:44:06] \"GET / HTTP/1.1\" 200 -\n",
      "127.0.0.1 - - [19/May/2024 12:44:06] \"GET /static/images/car.png HTTP/1.1\" 304 -\n",
      "127.0.0.1 - - [19/May/2024 12:44:10] \"GET / HTTP/1.1\" 200 -\n",
      "127.0.0.1 - - [19/May/2024 12:44:10] \"GET /static/images/car.png HTTP/1.1\" 304 -\n",
      "127.0.0.1 - - [19/May/2024 12:44:14] \"GET / HTTP/1.1\" 200 -\n",
      "127.0.0.1 - - [19/May/2024 12:44:14] \"GET /static/images/car.png HTTP/1.1\" 304 -\n",
      "127.0.0.1 - - [19/May/2024 12:44:18] \"GET / HTTP/1.1\" 200 -\n",
      "127.0.0.1 - - [19/May/2024 12:44:18] \"GET /static/images/car.png HTTP/1.1\" 304 -\n",
      "127.0.0.1 - - [19/May/2024 12:44:22] \"GET / HTTP/1.1\" 200 -\n",
      "127.0.0.1 - - [19/May/2024 12:44:22] \"GET /static/images/car.png HTTP/1.1\" 304 -\n",
      "127.0.0.1 - - [19/May/2024 12:44:26] \"GET / HTTP/1.1\" 200 -\n",
      "127.0.0.1 - - [19/May/2024 12:44:26] \"GET /static/images/car.png HTTP/1.1\" 304 -\n",
      "127.0.0.1 - - [19/May/2024 12:44:30] \"GET / HTTP/1.1\" 200 -\n",
      "127.0.0.1 - - [19/May/2024 12:44:30] \"GET /static/images/car.png HTTP/1.1\" 304 -\n",
      "127.0.0.1 - - [19/May/2024 12:44:34] \"GET / HTTP/1.1\" 200 -\n",
      "127.0.0.1 - - [19/May/2024 12:44:34] \"GET /static/images/car.png HTTP/1.1\" 304 -\n",
      "127.0.0.1 - - [19/May/2024 12:44:38] \"GET / HTTP/1.1\" 200 -\n",
      "127.0.0.1 - - [19/May/2024 12:44:38] \"GET /static/images/car.png HTTP/1.1\" 304 -\n",
      "127.0.0.1 - - [19/May/2024 12:44:42] \"GET / HTTP/1.1\" 200 -\n",
      "127.0.0.1 - - [19/May/2024 12:44:42] \"GET /static/images/car.png HTTP/1.1\" 304 -\n",
      "127.0.0.1 - - [19/May/2024 12:44:46] \"GET / HTTP/1.1\" 200 -\n",
      "127.0.0.1 - - [19/May/2024 12:44:46] \"GET /static/images/car.png HTTP/1.1\" 304 -\n",
      "127.0.0.1 - - [19/May/2024 12:44:50] \"GET / HTTP/1.1\" 200 -\n",
      "127.0.0.1 - - [19/May/2024 12:44:50] \"GET /static/images/car.png HTTP/1.1\" 304 -\n",
      "127.0.0.1 - - [19/May/2024 12:44:54] \"GET / HTTP/1.1\" 200 -\n",
      "127.0.0.1 - - [19/May/2024 12:44:54] \"GET /static/images/car.png HTTP/1.1\" 304 -\n",
      "127.0.0.1 - - [19/May/2024 12:44:58] \"GET / HTTP/1.1\" 200 -\n",
      "127.0.0.1 - - [19/May/2024 12:44:58] \"GET /static/images/car.png HTTP/1.1\" 304 -\n",
      "127.0.0.1 - - [19/May/2024 12:45:02] \"GET / HTTP/1.1\" 200 -\n",
      "127.0.0.1 - - [19/May/2024 12:45:02] \"GET /static/images/car.png HTTP/1.1\" 304 -\n",
      "127.0.0.1 - - [19/May/2024 12:45:06] \"GET / HTTP/1.1\" 200 -\n",
      "127.0.0.1 - - [19/May/2024 12:45:06] \"GET /static/images/car.png HTTP/1.1\" 304 -\n",
      "127.0.0.1 - - [19/May/2024 12:45:10] \"GET / HTTP/1.1\" 200 -\n",
      "127.0.0.1 - - [19/May/2024 12:45:10] \"GET /static/images/car.png HTTP/1.1\" 304 -\n",
      "127.0.0.1 - - [19/May/2024 12:45:14] \"GET / HTTP/1.1\" 200 -\n",
      "127.0.0.1 - - [19/May/2024 12:45:14] \"GET /static/images/car.png HTTP/1.1\" 304 -\n",
      "127.0.0.1 - - [19/May/2024 12:45:18] \"GET / HTTP/1.1\" 200 -\n",
      "127.0.0.1 - - [19/May/2024 12:45:18] \"GET /static/images/car.png HTTP/1.1\" 304 -\n",
      "127.0.0.1 - - [19/May/2024 12:45:22] \"GET / HTTP/1.1\" 200 -\n",
      "127.0.0.1 - - [19/May/2024 12:45:22] \"GET /static/images/car.png HTTP/1.1\" 304 -\n",
      "127.0.0.1 - - [19/May/2024 12:45:26] \"GET / HTTP/1.1\" 200 -\n",
      "127.0.0.1 - - [19/May/2024 12:45:26] \"GET /static/images/car.png HTTP/1.1\" 304 -\n",
      "127.0.0.1 - - [19/May/2024 12:45:30] \"GET / HTTP/1.1\" 200 -\n",
      "127.0.0.1 - - [19/May/2024 12:45:30] \"GET /static/images/car.png HTTP/1.1\" 304 -\n",
      "127.0.0.1 - - [19/May/2024 12:45:34] \"GET / HTTP/1.1\" 200 -\n",
      "127.0.0.1 - - [19/May/2024 12:45:34] \"GET /static/images/car.png HTTP/1.1\" 304 -\n",
      "127.0.0.1 - - [19/May/2024 12:45:38] \"GET / HTTP/1.1\" 200 -\n",
      "127.0.0.1 - - [19/May/2024 12:45:38] \"GET /static/images/car.png HTTP/1.1\" 304 -\n",
      "127.0.0.1 - - [19/May/2024 12:45:42] \"GET / HTTP/1.1\" 200 -\n",
      "127.0.0.1 - - [19/May/2024 12:45:42] \"GET /static/images/car.png HTTP/1.1\" 304 -\n",
      "127.0.0.1 - - [19/May/2024 12:45:46] \"GET / HTTP/1.1\" 200 -\n",
      "127.0.0.1 - - [19/May/2024 12:45:46] \"GET /static/images/car.png HTTP/1.1\" 304 -\n",
      "127.0.0.1 - - [19/May/2024 12:45:50] \"GET / HTTP/1.1\" 200 -\n",
      "127.0.0.1 - - [19/May/2024 12:45:50] \"GET /static/images/car.png HTTP/1.1\" 304 -\n",
      "127.0.0.1 - - [19/May/2024 12:45:54] \"GET / HTTP/1.1\" 200 -\n",
      "127.0.0.1 - - [19/May/2024 12:45:54] \"GET /static/images/car.png HTTP/1.1\" 304 -\n",
      "127.0.0.1 - - [19/May/2024 12:45:58] \"GET / HTTP/1.1\" 200 -\n",
      "127.0.0.1 - - [19/May/2024 12:45:58] \"GET /static/images/car.png HTTP/1.1\" 304 -\n",
      "127.0.0.1 - - [19/May/2024 12:46:02] \"GET / HTTP/1.1\" 200 -\n",
      "127.0.0.1 - - [19/May/2024 12:46:02] \"GET /static/images/car.png HTTP/1.1\" 304 -\n",
      "127.0.0.1 - - [19/May/2024 12:46:06] \"GET / HTTP/1.1\" 200 -\n",
      "127.0.0.1 - - [19/May/2024 12:46:06] \"GET /static/images/car.png HTTP/1.1\" 304 -\n",
      "127.0.0.1 - - [19/May/2024 12:46:10] \"GET / HTTP/1.1\" 200 -\n",
      "127.0.0.1 - - [19/May/2024 12:46:10] \"GET /static/images/car.png HTTP/1.1\" 304 -\n",
      "127.0.0.1 - - [19/May/2024 12:46:14] \"GET / HTTP/1.1\" 200 -\n",
      "127.0.0.1 - - [19/May/2024 12:46:14] \"GET /static/images/car.png HTTP/1.1\" 304 -\n",
      "127.0.0.1 - - [19/May/2024 12:46:18] \"GET / HTTP/1.1\" 200 -\n",
      "127.0.0.1 - - [19/May/2024 12:46:18] \"GET /static/images/car.png HTTP/1.1\" 304 -\n",
      "127.0.0.1 - - [19/May/2024 12:46:22] \"GET / HTTP/1.1\" 200 -\n",
      "127.0.0.1 - - [19/May/2024 12:46:22] \"GET /static/images/car.png HTTP/1.1\" 304 -\n",
      "127.0.0.1 - - [19/May/2024 12:46:26] \"GET / HTTP/1.1\" 200 -\n",
      "127.0.0.1 - - [19/May/2024 12:46:26] \"GET /static/images/car.png HTTP/1.1\" 304 -\n",
      "127.0.0.1 - - [19/May/2024 12:46:30] \"GET / HTTP/1.1\" 200 -\n",
      "127.0.0.1 - - [19/May/2024 12:46:30] \"GET /static/images/car.png HTTP/1.1\" 304 -\n",
      "127.0.0.1 - - [19/May/2024 12:46:34] \"GET / HTTP/1.1\" 200 -\n",
      "127.0.0.1 - - [19/May/2024 12:46:34] \"GET /static/images/car.png HTTP/1.1\" 304 -\n",
      "127.0.0.1 - - [19/May/2024 12:46:38] \"GET / HTTP/1.1\" 200 -\n",
      "127.0.0.1 - - [19/May/2024 12:46:38] \"GET /static/images/car.png HTTP/1.1\" 304 -\n",
      "127.0.0.1 - - [19/May/2024 12:46:42] \"GET / HTTP/1.1\" 200 -\n",
      "127.0.0.1 - - [19/May/2024 12:46:42] \"GET /static/images/car.png HTTP/1.1\" 304 -\n",
      "127.0.0.1 - - [19/May/2024 12:46:46] \"GET / HTTP/1.1\" 200 -\n",
      "127.0.0.1 - - [19/May/2024 12:46:46] \"GET /static/images/car.png HTTP/1.1\" 304 -\n",
      "127.0.0.1 - - [19/May/2024 12:46:50] \"GET / HTTP/1.1\" 200 -\n",
      "127.0.0.1 - - [19/May/2024 12:46:50] \"GET /static/images/car.png HTTP/1.1\" 304 -\n",
      "127.0.0.1 - - [19/May/2024 12:46:54] \"GET / HTTP/1.1\" 200 -\n",
      "127.0.0.1 - - [19/May/2024 12:46:54] \"GET /static/images/car.png HTTP/1.1\" 304 -\n",
      "127.0.0.1 - - [19/May/2024 12:46:58] \"GET / HTTP/1.1\" 200 -\n",
      "127.0.0.1 - - [19/May/2024 12:46:58] \"GET /static/images/car.png HTTP/1.1\" 304 -\n",
      "127.0.0.1 - - [19/May/2024 12:47:02] \"GET / HTTP/1.1\" 200 -\n",
      "127.0.0.1 - - [19/May/2024 12:47:02] \"GET /static/images/car.png HTTP/1.1\" 304 -\n",
      "127.0.0.1 - - [19/May/2024 12:47:06] \"GET / HTTP/1.1\" 200 -\n",
      "127.0.0.1 - - [19/May/2024 12:47:06] \"GET /static/images/car.png HTTP/1.1\" 304 -\n",
      "127.0.0.1 - - [19/May/2024 12:47:10] \"GET / HTTP/1.1\" 200 -\n",
      "127.0.0.1 - - [19/May/2024 12:47:10] \"GET /static/images/car.png HTTP/1.1\" 304 -\n",
      "127.0.0.1 - - [19/May/2024 12:47:14] \"GET / HTTP/1.1\" 200 -\n",
      "127.0.0.1 - - [19/May/2024 12:47:14] \"GET /static/images/car.png HTTP/1.1\" 304 -\n",
      "127.0.0.1 - - [19/May/2024 12:47:18] \"GET / HTTP/1.1\" 200 -\n",
      "127.0.0.1 - - [19/May/2024 12:47:18] \"GET /static/images/car.png HTTP/1.1\" 304 -\n",
      "127.0.0.1 - - [19/May/2024 12:47:22] \"GET / HTTP/1.1\" 200 -\n",
      "127.0.0.1 - - [19/May/2024 12:47:22] \"GET /static/images/car.png HTTP/1.1\" 304 -\n",
      "127.0.0.1 - - [19/May/2024 12:47:26] \"GET / HTTP/1.1\" 200 -\n",
      "127.0.0.1 - - [19/May/2024 12:47:26] \"GET /static/images/car.png HTTP/1.1\" 304 -\n",
      "127.0.0.1 - - [19/May/2024 12:47:30] \"GET / HTTP/1.1\" 200 -\n",
      "127.0.0.1 - - [19/May/2024 12:47:30] \"GET /static/images/car.png HTTP/1.1\" 304 -\n",
      "127.0.0.1 - - [19/May/2024 12:47:34] \"GET / HTTP/1.1\" 200 -\n",
      "127.0.0.1 - - [19/May/2024 12:47:34] \"GET /static/images/car.png HTTP/1.1\" 304 -\n",
      "127.0.0.1 - - [19/May/2024 12:47:38] \"GET / HTTP/1.1\" 200 -\n",
      "127.0.0.1 - - [19/May/2024 12:47:38] \"GET /static/images/car.png HTTP/1.1\" 304 -\n",
      "127.0.0.1 - - [19/May/2024 12:47:42] \"GET / HTTP/1.1\" 200 -\n",
      "127.0.0.1 - - [19/May/2024 12:47:42] \"GET /static/images/car.png HTTP/1.1\" 304 -\n",
      "127.0.0.1 - - [19/May/2024 12:47:46] \"GET / HTTP/1.1\" 200 -\n",
      "127.0.0.1 - - [19/May/2024 12:47:46] \"GET /static/images/car.png HTTP/1.1\" 304 -\n",
      "127.0.0.1 - - [19/May/2024 12:47:50] \"GET / HTTP/1.1\" 200 -\n",
      "127.0.0.1 - - [19/May/2024 12:47:50] \"GET /static/images/car.png HTTP/1.1\" 304 -\n",
      "127.0.0.1 - - [19/May/2024 12:47:54] \"GET / HTTP/1.1\" 200 -\n",
      "127.0.0.1 - - [19/May/2024 12:47:54] \"GET /static/images/car.png HTTP/1.1\" 304 -\n",
      "127.0.0.1 - - [19/May/2024 12:47:58] \"GET / HTTP/1.1\" 200 -\n",
      "127.0.0.1 - - [19/May/2024 12:47:58] \"GET /static/images/car.png HTTP/1.1\" 304 -\n",
      "127.0.0.1 - - [19/May/2024 12:48:02] \"GET / HTTP/1.1\" 200 -\n",
      "127.0.0.1 - - [19/May/2024 12:48:02] \"GET /static/images/car.png HTTP/1.1\" 304 -\n",
      "127.0.0.1 - - [19/May/2024 12:48:06] \"GET / HTTP/1.1\" 200 -\n",
      "127.0.0.1 - - [19/May/2024 12:48:06] \"GET /static/images/car.png HTTP/1.1\" 304 -\n",
      "127.0.0.1 - - [19/May/2024 12:48:10] \"GET / HTTP/1.1\" 200 -\n",
      "127.0.0.1 - - [19/May/2024 12:48:10] \"GET /static/images/car.png HTTP/1.1\" 304 -\n",
      "127.0.0.1 - - [19/May/2024 12:48:14] \"GET / HTTP/1.1\" 200 -\n",
      "127.0.0.1 - - [19/May/2024 12:48:14] \"GET /static/images/car.png HTTP/1.1\" 304 -\n",
      "127.0.0.1 - - [19/May/2024 12:48:18] \"GET / HTTP/1.1\" 200 -\n",
      "127.0.0.1 - - [19/May/2024 12:48:18] \"GET /static/images/car.png HTTP/1.1\" 304 -\n",
      "127.0.0.1 - - [19/May/2024 12:48:22] \"GET / HTTP/1.1\" 200 -\n",
      "127.0.0.1 - - [19/May/2024 12:48:22] \"GET /static/images/car.png HTTP/1.1\" 304 -\n",
      "127.0.0.1 - - [19/May/2024 12:48:26] \"GET / HTTP/1.1\" 200 -\n",
      "127.0.0.1 - - [19/May/2024 12:48:26] \"GET /static/images/car.png HTTP/1.1\" 304 -\n",
      "127.0.0.1 - - [19/May/2024 12:48:30] \"GET / HTTP/1.1\" 200 -\n",
      "127.0.0.1 - - [19/May/2024 12:48:30] \"GET /static/images/car.png HTTP/1.1\" 304 -\n",
      "127.0.0.1 - - [19/May/2024 12:48:34] \"GET / HTTP/1.1\" 200 -\n",
      "127.0.0.1 - - [19/May/2024 12:48:34] \"GET /static/images/car.png HTTP/1.1\" 304 -\n",
      "127.0.0.1 - - [19/May/2024 12:48:38] \"GET / HTTP/1.1\" 200 -\n",
      "127.0.0.1 - - [19/May/2024 12:48:38] \"GET /static/images/car.png HTTP/1.1\" 304 -\n",
      "127.0.0.1 - - [19/May/2024 12:48:42] \"GET / HTTP/1.1\" 200 -\n",
      "127.0.0.1 - - [19/May/2024 12:48:42] \"GET /static/images/car.png HTTP/1.1\" 304 -\n",
      "127.0.0.1 - - [19/May/2024 12:48:46] \"GET / HTTP/1.1\" 200 -\n",
      "127.0.0.1 - - [19/May/2024 12:48:46] \"GET /static/images/car.png HTTP/1.1\" 304 -\n",
      "127.0.0.1 - - [19/May/2024 12:48:50] \"GET / HTTP/1.1\" 200 -\n",
      "127.0.0.1 - - [19/May/2024 12:48:50] \"GET /static/images/car.png HTTP/1.1\" 304 -\n",
      "127.0.0.1 - - [19/May/2024 12:48:54] \"GET / HTTP/1.1\" 200 -\n",
      "127.0.0.1 - - [19/May/2024 12:48:54] \"GET /static/images/car.png HTTP/1.1\" 304 -\n",
      "127.0.0.1 - - [19/May/2024 12:48:58] \"GET / HTTP/1.1\" 200 -\n",
      "127.0.0.1 - - [19/May/2024 12:48:58] \"GET /static/images/car.png HTTP/1.1\" 304 -\n",
      "127.0.0.1 - - [19/May/2024 12:49:02] \"GET / HTTP/1.1\" 200 -\n",
      "127.0.0.1 - - [19/May/2024 12:49:02] \"GET /static/images/car.png HTTP/1.1\" 304 -\n",
      "127.0.0.1 - - [19/May/2024 12:49:06] \"GET / HTTP/1.1\" 200 -\n",
      "127.0.0.1 - - [19/May/2024 12:49:06] \"GET /static/images/car.png HTTP/1.1\" 304 -\n",
      "127.0.0.1 - - [19/May/2024 12:49:10] \"GET / HTTP/1.1\" 200 -\n",
      "127.0.0.1 - - [19/May/2024 12:49:10] \"GET /static/images/car.png HTTP/1.1\" 304 -\n",
      "127.0.0.1 - - [19/May/2024 12:49:14] \"GET / HTTP/1.1\" 200 -\n",
      "127.0.0.1 - - [19/May/2024 12:49:14] \"GET /static/images/car.png HTTP/1.1\" 304 -\n",
      "127.0.0.1 - - [19/May/2024 12:49:17] \"GET / HTTP/1.1\" 200 -\n",
      "127.0.0.1 - - [19/May/2024 12:49:17] \"GET /static/images/car.png HTTP/1.1\" 304 -\n",
      "127.0.0.1 - - [19/May/2024 12:49:20] \"GET / HTTP/1.1\" 200 -\n",
      "127.0.0.1 - - [19/May/2024 12:49:20] \"GET /static/images/car.png HTTP/1.1\" 304 -\n",
      "127.0.0.1 - - [19/May/2024 12:49:23] \"GET / HTTP/1.1\" 200 -\n",
      "127.0.0.1 - - [19/May/2024 12:49:23] \"GET /static/images/car.png HTTP/1.1\" 304 -\n",
      "127.0.0.1 - - [19/May/2024 12:49:27] \"GET / HTTP/1.1\" 200 -\n",
      "127.0.0.1 - - [19/May/2024 12:49:27] \"GET /static/images/car.png HTTP/1.1\" 304 -\n",
      "127.0.0.1 - - [19/May/2024 12:49:30] \"GET / HTTP/1.1\" 200 -\n",
      "127.0.0.1 - - [19/May/2024 12:49:30] \"GET /static/images/car.png HTTP/1.1\" 304 -\n",
      "127.0.0.1 - - [19/May/2024 12:49:34] \"GET / HTTP/1.1\" 200 -\n",
      "127.0.0.1 - - [19/May/2024 12:49:34] \"GET /static/images/car.png HTTP/1.1\" 304 -\n",
      "127.0.0.1 - - [19/May/2024 12:49:37] \"GET / HTTP/1.1\" 200 -\n",
      "127.0.0.1 - - [19/May/2024 12:49:37] \"GET /static/images/car.png HTTP/1.1\" 304 -\n",
      "127.0.0.1 - - [19/May/2024 12:49:38] \"GET / HTTP/1.1\" 200 -\n",
      "127.0.0.1 - - [19/May/2024 12:49:38] \"GET /static/images/car.png HTTP/1.1\" 304 -\n",
      "127.0.0.1 - - [19/May/2024 12:49:42] \"GET / HTTP/1.1\" 200 -\n",
      "127.0.0.1 - - [19/May/2024 12:49:42] \"GET /static/images/car.png HTTP/1.1\" 304 -\n",
      "127.0.0.1 - - [19/May/2024 12:49:45] \"GET / HTTP/1.1\" 200 -\n",
      "127.0.0.1 - - [19/May/2024 12:49:46] \"GET /static/images/car.png HTTP/1.1\" 304 -\n",
      "127.0.0.1 - - [19/May/2024 12:49:49] \"GET / HTTP/1.1\" 200 -\n",
      "127.0.0.1 - - [19/May/2024 12:49:49] \"GET /static/images/car.png HTTP/1.1\" 304 -\n",
      "127.0.0.1 - - [19/May/2024 12:49:53] \"GET / HTTP/1.1\" 200 -\n",
      "127.0.0.1 - - [19/May/2024 12:49:53] \"GET /static/images/car.png HTTP/1.1\" 304 -\n",
      "127.0.0.1 - - [19/May/2024 12:49:57] \"GET / HTTP/1.1\" 200 -\n",
      "127.0.0.1 - - [19/May/2024 12:49:57] \"GET /static/images/car.png HTTP/1.1\" 304 -\n",
      "127.0.0.1 - - [19/May/2024 12:50:01] \"GET / HTTP/1.1\" 200 -\n",
      "127.0.0.1 - - [19/May/2024 12:50:01] \"GET /static/images/car.png HTTP/1.1\" 304 -\n",
      "127.0.0.1 - - [19/May/2024 12:50:05] \"GET / HTTP/1.1\" 200 -\n",
      "127.0.0.1 - - [19/May/2024 12:50:05] \"GET /static/images/car.png HTTP/1.1\" 304 -\n",
      "127.0.0.1 - - [19/May/2024 12:50:09] \"GET / HTTP/1.1\" 200 -\n",
      "127.0.0.1 - - [19/May/2024 12:50:09] \"GET /static/images/car.png HTTP/1.1\" 304 -\n",
      "127.0.0.1 - - [19/May/2024 12:50:13] \"GET / HTTP/1.1\" 200 -\n",
      "127.0.0.1 - - [19/May/2024 12:50:13] \"GET /static/images/car.png HTTP/1.1\" 304 -\n",
      "127.0.0.1 - - [19/May/2024 12:50:17] \"GET / HTTP/1.1\" 200 -\n",
      "127.0.0.1 - - [19/May/2024 12:50:17] \"GET /static/images/car.png HTTP/1.1\" 304 -\n",
      "127.0.0.1 - - [19/May/2024 12:50:21] \"GET / HTTP/1.1\" 200 -\n",
      "127.0.0.1 - - [19/May/2024 12:50:21] \"GET /static/images/car.png HTTP/1.1\" 304 -\n",
      "127.0.0.1 - - [19/May/2024 12:50:25] \"GET / HTTP/1.1\" 200 -\n",
      "127.0.0.1 - - [19/May/2024 12:50:25] \"GET /static/images/car.png HTTP/1.1\" 304 -\n",
      "127.0.0.1 - - [19/May/2024 12:50:29] \"GET / HTTP/1.1\" 200 -\n",
      "127.0.0.1 - - [19/May/2024 12:50:29] \"GET /static/images/car.png HTTP/1.1\" 304 -\n",
      "127.0.0.1 - - [19/May/2024 12:50:33] \"GET / HTTP/1.1\" 200 -\n",
      "127.0.0.1 - - [19/May/2024 12:50:33] \"GET /static/images/car.png HTTP/1.1\" 304 -\n",
      "127.0.0.1 - - [19/May/2024 12:50:37] \"GET / HTTP/1.1\" 200 -\n",
      "127.0.0.1 - - [19/May/2024 12:50:37] \"GET /static/images/car.png HTTP/1.1\" 304 -\n",
      "127.0.0.1 - - [19/May/2024 12:50:41] \"GET / HTTP/1.1\" 200 -\n",
      "127.0.0.1 - - [19/May/2024 12:50:41] \"GET /static/images/car.png HTTP/1.1\" 304 -\n",
      "127.0.0.1 - - [19/May/2024 12:50:45] \"GET / HTTP/1.1\" 200 -\n",
      "127.0.0.1 - - [19/May/2024 12:50:45] \"GET /static/images/car.png HTTP/1.1\" 304 -\n",
      "127.0.0.1 - - [19/May/2024 12:50:49] \"GET / HTTP/1.1\" 200 -\n",
      "127.0.0.1 - - [19/May/2024 12:50:49] \"GET /static/images/car.png HTTP/1.1\" 304 -\n",
      "127.0.0.1 - - [19/May/2024 12:50:53] \"GET / HTTP/1.1\" 200 -\n",
      "127.0.0.1 - - [19/May/2024 12:50:53] \"GET /static/images/car.png HTTP/1.1\" 304 -\n",
      "127.0.0.1 - - [19/May/2024 12:50:57] \"GET / HTTP/1.1\" 200 -\n",
      "127.0.0.1 - - [19/May/2024 12:50:57] \"GET /static/images/car.png HTTP/1.1\" 304 -\n",
      "127.0.0.1 - - [19/May/2024 12:51:00] \"GET / HTTP/1.1\" 200 -\n",
      "127.0.0.1 - - [19/May/2024 12:51:00] \"GET /static/images/car.png HTTP/1.1\" 304 -\n",
      "127.0.0.1 - - [19/May/2024 12:51:03] \"GET / HTTP/1.1\" 200 -\n",
      "127.0.0.1 - - [19/May/2024 12:51:03] \"GET /static/images/car.png HTTP/1.1\" 304 -\n",
      "127.0.0.1 - - [19/May/2024 12:51:06] \"GET / HTTP/1.1\" 200 -\n",
      "127.0.0.1 - - [19/May/2024 12:51:06] \"GET /static/images/car.png HTTP/1.1\" 304 -\n",
      "127.0.0.1 - - [19/May/2024 12:51:09] \"GET / HTTP/1.1\" 200 -\n",
      "127.0.0.1 - - [19/May/2024 12:51:09] \"GET /static/images/car.png HTTP/1.1\" 304 -\n",
      "127.0.0.1 - - [19/May/2024 12:51:12] \"GET / HTTP/1.1\" 200 -\n",
      "127.0.0.1 - - [19/May/2024 12:51:13] \"GET /static/images/car.png HTTP/1.1\" 304 -\n",
      "127.0.0.1 - - [19/May/2024 12:51:16] \"GET / HTTP/1.1\" 200 -\n",
      "127.0.0.1 - - [19/May/2024 12:51:16] \"GET /static/images/car.png HTTP/1.1\" 304 -\n",
      "127.0.0.1 - - [19/May/2024 12:51:19] \"GET / HTTP/1.1\" 200 -\n",
      "127.0.0.1 - - [19/May/2024 12:51:19] \"GET /static/images/car.png HTTP/1.1\" 304 -\n",
      "127.0.0.1 - - [19/May/2024 12:51:22] \"GET / HTTP/1.1\" 200 -\n",
      "127.0.0.1 - - [19/May/2024 12:51:22] \"GET /static/images/car.png HTTP/1.1\" 304 -\n",
      "127.0.0.1 - - [19/May/2024 12:51:25] \"GET / HTTP/1.1\" 200 -\n",
      "127.0.0.1 - - [19/May/2024 12:51:25] \"GET /static/images/car.png HTTP/1.1\" 304 -\n",
      "127.0.0.1 - - [19/May/2024 12:51:28] \"GET / HTTP/1.1\" 200 -\n",
      "127.0.0.1 - - [19/May/2024 12:51:28] \"GET /static/images/car.png HTTP/1.1\" 304 -\n",
      "127.0.0.1 - - [19/May/2024 12:51:32] \"GET / HTTP/1.1\" 200 -\n",
      "127.0.0.1 - - [19/May/2024 12:51:32] \"GET /static/images/car.png HTTP/1.1\" 304 -\n",
      "127.0.0.1 - - [19/May/2024 12:51:35] \"GET / HTTP/1.1\" 200 -\n",
      "127.0.0.1 - - [19/May/2024 12:51:36] \"GET /static/images/car.png HTTP/1.1\" 304 -\n",
      "127.0.0.1 - - [19/May/2024 12:51:39] \"GET / HTTP/1.1\" 200 -\n",
      "127.0.0.1 - - [19/May/2024 12:51:39] \"GET /static/images/car.png HTTP/1.1\" 304 -\n",
      "127.0.0.1 - - [19/May/2024 12:51:43] \"GET / HTTP/1.1\" 200 -\n",
      "127.0.0.1 - - [19/May/2024 12:51:43] \"GET /static/images/car.png HTTP/1.1\" 304 -\n",
      "127.0.0.1 - - [19/May/2024 12:51:47] \"GET / HTTP/1.1\" 200 -\n",
      "127.0.0.1 - - [19/May/2024 12:51:47] \"GET /static/images/car.png HTTP/1.1\" 304 -\n",
      "127.0.0.1 - - [19/May/2024 12:51:51] \"GET / HTTP/1.1\" 200 -\n",
      "127.0.0.1 - - [19/May/2024 12:51:51] \"GET /static/images/car.png HTTP/1.1\" 304 -\n",
      "127.0.0.1 - - [19/May/2024 12:51:55] \"GET / HTTP/1.1\" 200 -\n",
      "127.0.0.1 - - [19/May/2024 12:51:55] \"GET /static/images/car.png HTTP/1.1\" 304 -\n",
      "127.0.0.1 - - [19/May/2024 12:51:59] \"GET / HTTP/1.1\" 200 -\n",
      "127.0.0.1 - - [19/May/2024 12:51:59] \"GET /static/images/car.png HTTP/1.1\" 304 -\n",
      "127.0.0.1 - - [19/May/2024 12:52:03] \"GET / HTTP/1.1\" 200 -\n",
      "127.0.0.1 - - [19/May/2024 12:52:03] \"GET /static/images/car.png HTTP/1.1\" 304 -\n",
      "127.0.0.1 - - [19/May/2024 12:52:07] \"GET / HTTP/1.1\" 200 -\n",
      "127.0.0.1 - - [19/May/2024 12:52:07] \"GET /static/images/car.png HTTP/1.1\" 304 -\n",
      "127.0.0.1 - - [19/May/2024 12:52:11] \"GET / HTTP/1.1\" 200 -\n",
      "127.0.0.1 - - [19/May/2024 12:52:11] \"GET /static/images/car.png HTTP/1.1\" 304 -\n",
      "127.0.0.1 - - [19/May/2024 12:52:15] \"GET / HTTP/1.1\" 200 -\n",
      "127.0.0.1 - - [19/May/2024 12:52:15] \"GET /static/images/car.png HTTP/1.1\" 304 -\n",
      "127.0.0.1 - - [19/May/2024 12:52:19] \"GET / HTTP/1.1\" 200 -\n",
      "127.0.0.1 - - [19/May/2024 12:52:19] \"GET /static/images/car.png HTTP/1.1\" 304 -\n",
      "127.0.0.1 - - [19/May/2024 12:52:23] \"GET / HTTP/1.1\" 200 -\n",
      "127.0.0.1 - - [19/May/2024 12:52:23] \"GET /static/images/car.png HTTP/1.1\" 304 -\n",
      "127.0.0.1 - - [19/May/2024 12:52:27] \"GET / HTTP/1.1\" 200 -\n",
      "127.0.0.1 - - [19/May/2024 12:52:27] \"GET /static/images/car.png HTTP/1.1\" 304 -\n",
      "127.0.0.1 - - [19/May/2024 12:52:31] \"GET / HTTP/1.1\" 200 -\n",
      "127.0.0.1 - - [19/May/2024 12:52:31] \"GET /static/images/car.png HTTP/1.1\" 304 -\n",
      "127.0.0.1 - - [19/May/2024 12:52:35] \"GET / HTTP/1.1\" 200 -\n",
      "127.0.0.1 - - [19/May/2024 12:52:35] \"GET /static/images/car.png HTTP/1.1\" 304 -\n",
      "127.0.0.1 - - [19/May/2024 12:52:39] \"GET / HTTP/1.1\" 200 -\n",
      "127.0.0.1 - - [19/May/2024 12:52:39] \"GET /static/images/car.png HTTP/1.1\" 304 -\n",
      "127.0.0.1 - - [19/May/2024 12:52:43] \"GET / HTTP/1.1\" 200 -\n",
      "127.0.0.1 - - [19/May/2024 12:52:43] \"GET /static/images/car.png HTTP/1.1\" 304 -\n",
      "127.0.0.1 - - [19/May/2024 12:52:47] \"GET / HTTP/1.1\" 200 -\n",
      "127.0.0.1 - - [19/May/2024 12:52:47] \"GET /static/images/car.png HTTP/1.1\" 304 -\n",
      "127.0.0.1 - - [19/May/2024 12:52:51] \"GET / HTTP/1.1\" 200 -\n",
      "127.0.0.1 - - [19/May/2024 12:52:51] \"GET /static/images/car.png HTTP/1.1\" 304 -\n",
      "127.0.0.1 - - [19/May/2024 12:52:55] \"GET / HTTP/1.1\" 200 -\n",
      "127.0.0.1 - - [19/May/2024 12:52:55] \"GET /static/images/car.png HTTP/1.1\" 304 -\n",
      "127.0.0.1 - - [19/May/2024 12:52:59] \"GET / HTTP/1.1\" 200 -\n",
      "127.0.0.1 - - [19/May/2024 12:52:59] \"GET /static/images/car.png HTTP/1.1\" 304 -\n",
      "127.0.0.1 - - [19/May/2024 12:53:03] \"GET / HTTP/1.1\" 200 -\n",
      "127.0.0.1 - - [19/May/2024 12:53:03] \"GET /static/images/car.png HTTP/1.1\" 304 -\n",
      "127.0.0.1 - - [19/May/2024 12:53:07] \"GET / HTTP/1.1\" 200 -\n",
      "127.0.0.1 - - [19/May/2024 12:53:07] \"GET /static/images/car.png HTTP/1.1\" 304 -\n",
      "127.0.0.1 - - [19/May/2024 12:53:11] \"GET / HTTP/1.1\" 200 -\n",
      "127.0.0.1 - - [19/May/2024 12:53:11] \"GET /static/images/car.png HTTP/1.1\" 304 -\n",
      "127.0.0.1 - - [19/May/2024 12:53:15] \"GET / HTTP/1.1\" 200 -\n",
      "127.0.0.1 - - [19/May/2024 12:53:15] \"GET /static/images/car.png HTTP/1.1\" 304 -\n",
      "127.0.0.1 - - [19/May/2024 12:53:19] \"GET / HTTP/1.1\" 200 -\n",
      "127.0.0.1 - - [19/May/2024 12:53:19] \"GET /static/images/car.png HTTP/1.1\" 304 -\n",
      "127.0.0.1 - - [19/May/2024 12:53:23] \"GET / HTTP/1.1\" 200 -\n",
      "127.0.0.1 - - [19/May/2024 12:53:23] \"GET /static/images/car.png HTTP/1.1\" 304 -\n",
      "127.0.0.1 - - [19/May/2024 12:53:27] \"GET / HTTP/1.1\" 200 -\n",
      "127.0.0.1 - - [19/May/2024 12:53:27] \"GET /static/images/car.png HTTP/1.1\" 304 -\n",
      "127.0.0.1 - - [19/May/2024 12:53:31] \"GET / HTTP/1.1\" 200 -\n",
      "127.0.0.1 - - [19/May/2024 12:53:31] \"GET /static/images/car.png HTTP/1.1\" 304 -\n",
      "127.0.0.1 - - [19/May/2024 12:53:35] \"GET / HTTP/1.1\" 200 -\n",
      "127.0.0.1 - - [19/May/2024 12:53:35] \"GET /static/images/car.png HTTP/1.1\" 304 -\n",
      "127.0.0.1 - - [19/May/2024 12:53:39] \"GET / HTTP/1.1\" 200 -\n",
      "127.0.0.1 - - [19/May/2024 12:53:39] \"GET /static/images/car.png HTTP/1.1\" 304 -\n",
      "127.0.0.1 - - [19/May/2024 12:53:43] \"GET / HTTP/1.1\" 200 -\n",
      "127.0.0.1 - - [19/May/2024 12:53:43] \"GET /static/images/car.png HTTP/1.1\" 304 -\n",
      "127.0.0.1 - - [19/May/2024 12:53:47] \"GET / HTTP/1.1\" 200 -\n",
      "127.0.0.1 - - [19/May/2024 12:53:47] \"GET /static/images/car.png HTTP/1.1\" 304 -\n",
      "127.0.0.1 - - [19/May/2024 12:53:51] \"GET / HTTP/1.1\" 200 -\n",
      "127.0.0.1 - - [19/May/2024 12:53:51] \"GET /static/images/car.png HTTP/1.1\" 304 -\n",
      "127.0.0.1 - - [19/May/2024 12:53:55] \"GET / HTTP/1.1\" 200 -\n",
      "127.0.0.1 - - [19/May/2024 12:53:55] \"GET /static/images/car.png HTTP/1.1\" 304 -\n",
      "127.0.0.1 - - [19/May/2024 12:53:59] \"GET / HTTP/1.1\" 200 -\n",
      "127.0.0.1 - - [19/May/2024 12:53:59] \"GET /static/images/car.png HTTP/1.1\" 304 -\n",
      "127.0.0.1 - - [19/May/2024 12:54:03] \"GET / HTTP/1.1\" 200 -\n",
      "127.0.0.1 - - [19/May/2024 12:54:03] \"GET /static/images/car.png HTTP/1.1\" 304 -\n",
      "127.0.0.1 - - [19/May/2024 12:54:07] \"GET / HTTP/1.1\" 200 -\n",
      "127.0.0.1 - - [19/May/2024 12:54:07] \"GET /static/images/car.png HTTP/1.1\" 304 -\n",
      "127.0.0.1 - - [19/May/2024 12:54:11] \"GET / HTTP/1.1\" 200 -\n",
      "127.0.0.1 - - [19/May/2024 12:54:11] \"GET /static/images/car.png HTTP/1.1\" 304 -\n",
      "127.0.0.1 - - [19/May/2024 12:54:15] \"GET / HTTP/1.1\" 200 -\n",
      "127.0.0.1 - - [19/May/2024 12:54:15] \"GET /static/images/car.png HTTP/1.1\" 304 -\n",
      "127.0.0.1 - - [19/May/2024 12:54:19] \"GET / HTTP/1.1\" 200 -\n",
      "127.0.0.1 - - [19/May/2024 12:54:19] \"GET /static/images/car.png HTTP/1.1\" 304 -\n",
      "127.0.0.1 - - [19/May/2024 12:54:23] \"GET / HTTP/1.1\" 200 -\n",
      "127.0.0.1 - - [19/May/2024 12:54:23] \"GET /static/images/car.png HTTP/1.1\" 304 -\n",
      "127.0.0.1 - - [19/May/2024 12:54:27] \"GET / HTTP/1.1\" 200 -\n",
      "127.0.0.1 - - [19/May/2024 12:54:27] \"GET /static/images/car.png HTTP/1.1\" 304 -\n",
      "127.0.0.1 - - [19/May/2024 12:54:31] \"GET / HTTP/1.1\" 200 -\n",
      "127.0.0.1 - - [19/May/2024 12:54:31] \"GET /static/images/car.png HTTP/1.1\" 304 -\n",
      "127.0.0.1 - - [19/May/2024 12:54:35] \"GET / HTTP/1.1\" 200 -\n",
      "127.0.0.1 - - [19/May/2024 12:54:35] \"GET /static/images/car.png HTTP/1.1\" 304 -\n",
      "127.0.0.1 - - [19/May/2024 12:54:39] \"GET / HTTP/1.1\" 200 -\n",
      "127.0.0.1 - - [19/May/2024 12:54:39] \"GET /static/images/car.png HTTP/1.1\" 304 -\n",
      "127.0.0.1 - - [19/May/2024 12:54:43] \"GET / HTTP/1.1\" 200 -\n",
      "127.0.0.1 - - [19/May/2024 12:54:43] \"GET /static/images/car.png HTTP/1.1\" 304 -\n",
      "127.0.0.1 - - [19/May/2024 12:54:47] \"GET / HTTP/1.1\" 200 -\n",
      "127.0.0.1 - - [19/May/2024 12:54:47] \"GET /static/images/car.png HTTP/1.1\" 304 -\n",
      "127.0.0.1 - - [19/May/2024 12:54:51] \"GET / HTTP/1.1\" 200 -\n",
      "127.0.0.1 - - [19/May/2024 12:54:51] \"GET /static/images/car.png HTTP/1.1\" 304 -\n",
      "127.0.0.1 - - [19/May/2024 12:54:55] \"GET / HTTP/1.1\" 200 -\n",
      "127.0.0.1 - - [19/May/2024 12:54:55] \"GET /static/images/car.png HTTP/1.1\" 304 -\n",
      "127.0.0.1 - - [19/May/2024 12:54:59] \"GET / HTTP/1.1\" 200 -\n",
      "127.0.0.1 - - [19/May/2024 12:54:59] \"GET /static/images/car.png HTTP/1.1\" 304 -\n",
      "127.0.0.1 - - [19/May/2024 12:55:03] \"GET / HTTP/1.1\" 200 -\n",
      "127.0.0.1 - - [19/May/2024 12:55:03] \"GET /static/images/car.png HTTP/1.1\" 304 -\n"
     ]
    }
   ],
   "source": [
    "from flask import Flask, render_template\n",
    "import paho.mqtt.client as mqtt\n",
    "\n",
    "app = Flask(__name__)\n",
    "\n",
    "# MQTT broker address\n",
    "broker_address = \"192.168.137.1\"\n",
    "# MQTT broker port\n",
    "port = 1883\n",
    "\n",
    "# MQTT topics to which the subscriber will subscribe\n",
    "topics = [\"parking/place1\", \"parking/place2\", \"parking/place3\", \"parking/carcount\"]\n",
    "\n",
    "# Quality of Service (QoS)\n",
    "qos = 0\n",
    "\n",
    "# Dictionary to store parking statuses\n",
    "parking_status = {}\n",
    "\n",
    "# Variable to store car count\n",
    "car_count = 0\n",
    "\n",
    "# Callback function to handle incoming messages\n",
    "def on_message(client, userdata, message):\n",
    "    global car_count\n",
    "    print(\"Received message on topic:\", message.topic)\n",
    "    #rint(\"Message payload:\", message.payload.decode())\n",
    "    \n",
    "    topic_parts = message.topic.split('/')\n",
    "    if topic_parts[1].startswith('place'):\n",
    "        place_id = topic_parts[1][-1]\n",
    "        status = message.payload.decode()\n",
    "        parking_status[place_id] = status\n",
    "    elif topic_parts[1] == 'carcount':\n",
    "        car_count = int(message.payload.decode())\n",
    "    #print(\"Car count:\", car_count)\n",
    "\n",
    "# Create an MQTT client instance\n",
    "client = mqtt.Client(\"subscriber1\")\n",
    "\n",
    "# Connect to the MQTT broker using the specified IP address and port\n",
    "client.connect(broker_address, port)\n",
    "\n",
    "# Subscribe to the specified topics\n",
    "for topic in topics:\n",
    "    client.subscribe(topic, qos)\n",
    "\n",
    "# Set the callback function for incoming messages\n",
    "client.on_message = on_message\n",
    "\n",
    "# Start the MQTT client loop to receive messages\n",
    "client.loop_start()\n",
    "\n",
    "@app.route('/')\n",
    "def index():\n",
    "    # Pass the image file path to the template\n",
    "    image_path = '/static/images/car.png'\n",
    "    return render_template('index.html', parking_status=parking_status, car_count=car_count, image_path=image_path)\n",
    "\n",
    "if __name__ == '__main__':\n",
    "    app.run(host='0.0.0.0', port=8082)\n"
   ]
  },
  {
   "cell_type": "code",
   "execution_count": null,
   "id": "54f0a129",
   "metadata": {},
   "outputs": [],
   "source": []
  }
 ],
 "metadata": {
  "kernelspec": {
   "display_name": "Python 3 (ipykernel)",
   "language": "python",
   "name": "python3"
  },
  "language_info": {
   "codemirror_mode": {
    "name": "ipython",
    "version": 3
   },
   "file_extension": ".py",
   "mimetype": "text/x-python",
   "name": "python",
   "nbconvert_exporter": "python",
   "pygments_lexer": "ipython3",
   "version": "3.10.12"
  }
 },
 "nbformat": 4,
 "nbformat_minor": 5
}
